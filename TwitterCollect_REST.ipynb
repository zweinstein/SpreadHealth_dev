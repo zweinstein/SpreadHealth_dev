{
 "cells": [
  {
   "cell_type": "markdown",
   "metadata": {},
   "source": [
    "## Downloading Data from Twitter"
   ]
  },
  {
   "cell_type": "markdown",
   "metadata": {},
   "source": [
    "Download tweets using Twitter's [REST API](https://dev.twitter.com/rest/public). \n",
    "\n",
    "Tweeets can also be collected using [Stream Listener](https://dev.twitter.com/streaming/overview) in real time. In general, REST API allows you to collect enough data faster since it searches for tweets already posted, while streaming API allows you to collect data in real time to update your data base and/or take actions immediately.\n",
    "\n",
    "In either case, we can use a python package called tweepy to collect tweets from Twitter."
   ]
  },
  {
   "cell_type": "code",
   "execution_count": 6,
   "metadata": {
    "collapsed": false,
    "editable": true
   },
   "outputs": [],
   "source": [
    "import tweepy # module for downloading tweets\n",
    "from tweepy import OAuthHandler,AppAuthHandler, Cursor\n",
    "import pandas as pd\n",
    "import sqlite3\n",
    "import os\n",
    "import json\n",
    "import sys\n",
    "import numpy as np\n",
    "\n",
    "# Enter the values for your app here.\n",
    "# These will be required to gain Authorization from Twitter.\n",
    "consumer_key = \"0UEi4rTWHXm6OXbNwxnV6A8wG\"\n",
    "consumer_secret = \"XKggqncGF1zoI87ifDLDUjc42zjMZdudZ2uBQQgLXVag1lsaEh\"\n",
    "\n",
    "access_token = \"609508066-juzBiy519wQRViP75bY0D6pr9RaPszVIZvujnHDI\"\n",
    "access_secret = \"0CIlVgJ49QmfKqAgcxqgwHqBShYOASniCMcGLntZ4CKoN\""
   ]
  },
  {
   "cell_type": "markdown",
   "metadata": {},
   "source": [
    "In order to collect tweets using REST API, we pass a paramater *('max_id')* to the function. This is the 'id' of the latest tweet we want to collect, i.e., we will collect all the tweets with their 'id' less than or equal to 'max_id'.\n",
    "\n",
    "The easiest way to do so is to post a tweet on your own timeline (which will have the current timestamp), and then use *OAuthHandler* to look at your timeline and get the 'id' of your latest tweet. Then use that 'id' with *AppAuthHandler*(REST API)."
   ]
  },
  {
   "cell_type": "code",
   "execution_count": 7,
   "metadata": {
    "collapsed": false,
    "deletable": true,
    "editable": true
   },
   "outputs": [
    {
     "name": "stdout",
     "output_type": "stream",
     "text": [
      "852169544424706047\n"
     ]
    }
   ],
   "source": [
    "# Getting the max_id first\n",
    "#Getting Authorization first.\n",
    "auth1 = OAuthHandler(consumer_key,consumer_secret)\n",
    "auth1.set_access_token(access_token,access_secret)\n",
    "api1 = tweepy.API(auth1)\n",
    "\n",
    "#Getting most recent tweet from my timeline using my screen_name\n",
    "user_recent_tweet = api1.user_timeline(scree_name='ZhenWang211', count=1)\n",
    "print (user_recent_tweet.max_id)\n",
    "\n",
    "#Getting Authorization for REST API\n",
    "auth = AppAuthHandler(consumer_key,consumer_secret)\n",
    "#Making wait_on_rate_limit TRUE, so that the code will wait and continue when limit is reached.\n",
    "api = tweepy.API(auth,wait_on_rate_limit=True,wait_on_rate_limit_notify=True)\n",
    "\n",
    "#Making sure Authorization was obtained.\n",
    "if (not api):\n",
    "    print (\"Can't Authorize.\")\n",
    "    sys.exit(-1)    "
   ]
  },
  {
   "cell_type": "markdown",
   "metadata": {},
   "source": [
    "Collect the tweets into a SQL database using sqlite3. For this project, I stored six vairbales for each tweet.\n",
    "1. Text\n",
    "2. Screen name\n",
    "3. Id\n",
    "4. Retweeted\n",
    "5. Retweet count\n",
    "6. Number of followers\n",
    "\n",
    "If a tweet was retweet it was not saved. \n",
    "\n",
    "The following script collects tweets related to \"healthcare\". "
   ]
  },
  {
   "cell_type": "code",
   "execution_count": 8,
   "metadata": {
    "collapsed": false,
    "deletable": true,
    "editable": true
   },
   "outputs": [
    {
     "name": "stdout",
     "output_type": "stream",
     "text": [
      "Downloading max 200 tweets.\n",
      "Downloaded 100 tweets\n",
      "Downloaded 200 tweets\n"
     ]
    }
   ],
   "source": [
    "# Set up the paramters for the collection of the tweets\n",
    "searchQuery = [\"healthcare\"] # sequence of interest to search for\n",
    "maxTweets = 200 # maximum number of tweets to collect. Set to large number for actual data collection.\n",
    "tweetsPerQuery = 100 # number of tweets to fetch per query\n",
    "max_id = user_recent_tweet.max_id # id of my most recent tweet\n",
    "sinceId = None # We want to collect all possible. So set to None.\n",
    "\n",
    "print (\"Downloading max {0} tweets.\".format(maxTweets))\n",
    "\n",
    "# Opening a connection to the sqlite3 database\n",
    "if not os.path.exists('test.db'):\n",
    "    conn = sqlite3.connect('test.db')\n",
    "    c = conn.cursor()\n",
    "    # creating a table if it does not exist.\n",
    "    c.execute('''CREATE TABLE tweets (tweet TEXT, id INTEGER, screenName TEXT, isRT INTEGER, rtCount INTEGER, fCount INTEGER)''')\n",
    "else:\n",
    "    conn = sqlite3.connect('test.db')\n",
    "    c = conn.cursor()\n",
    "\n",
    "# Collecting tweets\n",
    "tweetCount = 0\n",
    "while tweetCount < maxTweets:\n",
    "    try:\n",
    "        if max_id <= 0:\n",
    "            if (not sinceId):\n",
    "                new_tweets = api.search(q = searchQuery,count = tweetsPerQuery)\n",
    "            else:\n",
    "                new_tweets = api.search(q = searchQuery, count = tweetsPerQuery, since_Id = sinceId)\n",
    "        else:\n",
    "            if (not sinceId):\n",
    "                new_tweets = api.search(q = searchQuery,count=tweetsPerQuery,max_id=str(max_id-1))\n",
    "            else:\n",
    "                new_tweets = api.search(q = searchQuery,count=tweetsPerQuery,max_id=str(max_id-1),since_Id=sinceId)\n",
    "            \n",
    "        if not new_tweets:\n",
    "            print (\"No more tweets found.\")\n",
    "            break\n",
    "        for tweet in new_tweets: #Saving tweets to SQL\n",
    "            tweet._json #First convert tweets from string to json object.\n",
    "            # The variables of interesting\n",
    "            tweet1 = tweet.text \n",
    "            id1 = tweet.id\n",
    "            screenName1 = tweet.user.screen_name\n",
    "            rtCount1 = tweet.retweet_count\n",
    "            isRT1 = tweet.retweeted\n",
    "            foll_count1 = tweet.user.followers_count\n",
    "            #Saving only if not a retweet\n",
    "            if not isRT1:\n",
    "                c.execute(\"INSERT INTO tweets VALUES (?,?,?,?,?,?)\",(tweet1,id1,screenName1,isRT1,rtCount1,foll_count1))\n",
    "                conn.commit()  \n",
    "            \n",
    "            \n",
    "        tweetCount += len(new_tweets)\n",
    "        print (\"Downloaded {0} tweets\".format(tweetCount))\n",
    "        max_id = new_tweets[-1].id\n",
    "    except tweepy.TweepError as e:\n",
    "        print (\"ERROR :\" + str(e))\n",
    "        break\n",
    "conn.close() #Close connection.\n",
    "                \n"
   ]
  },
  {
   "cell_type": "markdown",
   "metadata": {},
   "source": [
    "Check out the tweets we've collected. Connect to the sqlite3 database and load all the saved tweets into pandas frame."
   ]
  },
  {
   "cell_type": "code",
   "execution_count": 9,
   "metadata": {
    "collapsed": false,
    "deletable": true,
    "editable": true
   },
   "outputs": [
    {
     "data": {
      "text/html": [
       "<div>\n",
       "<table border=\"1\" class=\"dataframe\">\n",
       "  <thead>\n",
       "    <tr style=\"text-align: right;\">\n",
       "      <th></th>\n",
       "      <th>tweet</th>\n",
       "      <th>id</th>\n",
       "      <th>screenName</th>\n",
       "      <th>isRT</th>\n",
       "      <th>rtCount</th>\n",
       "      <th>fCount</th>\n",
       "    </tr>\n",
       "  </thead>\n",
       "  <tbody>\n",
       "    <tr>\n",
       "      <th>0</th>\n",
       "      <td>RT @mediclocator: Stay-SlimSecrets From Dietit...</td>\n",
       "      <td>852169539181842432</td>\n",
       "      <td>Frankizuzu</td>\n",
       "      <td>0</td>\n",
       "      <td>1</td>\n",
       "      <td>107</td>\n",
       "    </tr>\n",
       "    <tr>\n",
       "      <th>1</th>\n",
       "      <td>Best workplaces in healthcare includes @Americ...</td>\n",
       "      <td>852169521716764672</td>\n",
       "      <td>KrisleighH</td>\n",
       "      <td>0</td>\n",
       "      <td>0</td>\n",
       "      <td>3065</td>\n",
       "    </tr>\n",
       "    <tr>\n",
       "      <th>2</th>\n",
       "      <td>Want to work in #Augusta, GA? View our latest ...</td>\n",
       "      <td>852169521540485121</td>\n",
       "      <td>tmj_ga_nursing</td>\n",
       "      <td>0</td>\n",
       "      <td>0</td>\n",
       "      <td>451</td>\n",
       "    </tr>\n",
       "    <tr>\n",
       "      <th>3</th>\n",
       "      <td>RT @mjobarber: @XXXTENTACIMAN @AnaShadows @Nia...</td>\n",
       "      <td>852169521100193793</td>\n",
       "      <td>AnaShadows</td>\n",
       "      <td>0</td>\n",
       "      <td>1</td>\n",
       "      <td>1306</td>\n",
       "    </tr>\n",
       "    <tr>\n",
       "      <th>4</th>\n",
       "      <td>RT @mediclocator: How To Eat More, But Smaller...</td>\n",
       "      <td>852169516691881984</td>\n",
       "      <td>Frankizuzu</td>\n",
       "      <td>0</td>\n",
       "      <td>1</td>\n",
       "      <td>107</td>\n",
       "    </tr>\n",
       "    <tr>\n",
       "      <th>5</th>\n",
       "      <td>See our latest #Louisville, KY #job and click ...</td>\n",
       "      <td>852169514317824002</td>\n",
       "      <td>tmj_ky_health</td>\n",
       "      <td>0</td>\n",
       "      <td>0</td>\n",
       "      <td>387</td>\n",
       "    </tr>\n",
       "    <tr>\n",
       "      <th>6</th>\n",
       "      <td>RT @LimaCharlieNews: OpEd: Democrats need to a...</td>\n",
       "      <td>852169514108280833</td>\n",
       "      <td>erintouponso</td>\n",
       "      <td>0</td>\n",
       "      <td>37</td>\n",
       "      <td>194</td>\n",
       "    </tr>\n",
       "    <tr>\n",
       "      <th>7</th>\n",
       "      <td>Interested in a #job in #GoodfellowAirForceBas...</td>\n",
       "      <td>852169511104987136</td>\n",
       "      <td>tmj_tx_health</td>\n",
       "      <td>0</td>\n",
       "      <td>0</td>\n",
       "      <td>490</td>\n",
       "    </tr>\n",
       "    <tr>\n",
       "      <th>8</th>\n",
       "      <td>The #Startups using #apps &amp;amp; #Phones to sol...</td>\n",
       "      <td>852169483867357184</td>\n",
       "      <td>DigitalHealthEZ</td>\n",
       "      <td>0</td>\n",
       "      <td>0</td>\n",
       "      <td>1370</td>\n",
       "    </tr>\n",
       "    <tr>\n",
       "      <th>9</th>\n",
       "      <td>OK, not the most \"fun\" topic, but unfortunatel...</td>\n",
       "      <td>852169475642187777</td>\n",
       "      <td>Biff_Bruise</td>\n",
       "      <td>0</td>\n",
       "      <td>0</td>\n",
       "      <td>2579</td>\n",
       "    </tr>\n",
       "  </tbody>\n",
       "</table>\n",
       "</div>"
      ],
      "text/plain": [
       "                                               tweet                  id  \\\n",
       "0  RT @mediclocator: Stay-SlimSecrets From Dietit...  852169539181842432   \n",
       "1  Best workplaces in healthcare includes @Americ...  852169521716764672   \n",
       "2  Want to work in #Augusta, GA? View our latest ...  852169521540485121   \n",
       "3  RT @mjobarber: @XXXTENTACIMAN @AnaShadows @Nia...  852169521100193793   \n",
       "4  RT @mediclocator: How To Eat More, But Smaller...  852169516691881984   \n",
       "5  See our latest #Louisville, KY #job and click ...  852169514317824002   \n",
       "6  RT @LimaCharlieNews: OpEd: Democrats need to a...  852169514108280833   \n",
       "7  Interested in a #job in #GoodfellowAirForceBas...  852169511104987136   \n",
       "8  The #Startups using #apps &amp; #Phones to sol...  852169483867357184   \n",
       "9  OK, not the most \"fun\" topic, but unfortunatel...  852169475642187777   \n",
       "\n",
       "        screenName  isRT  rtCount  fCount  \n",
       "0       Frankizuzu     0        1     107  \n",
       "1       KrisleighH     0        0    3065  \n",
       "2   tmj_ga_nursing     0        0     451  \n",
       "3       AnaShadows     0        1    1306  \n",
       "4       Frankizuzu     0        1     107  \n",
       "5    tmj_ky_health     0        0     387  \n",
       "6     erintouponso     0       37     194  \n",
       "7    tmj_tx_health     0        0     490  \n",
       "8  DigitalHealthEZ     0        0    1370  \n",
       "9      Biff_Bruise     0        0    2579  "
      ]
     },
     "execution_count": 9,
     "metadata": {},
     "output_type": "execute_result"
    }
   ],
   "source": [
    "conn = sqlite3.connect('test.db')\n",
    "c = conn.cursor()\n",
    "test_sql = pd.read_sql_query(\"Select * from tweets\",conn)\n",
    "conn.close()\n",
    "test_sql.head(10)"
   ]
  }
 ],
 "metadata": {
  "kernelspec": {
   "display_name": "Python [insight_env]",
   "language": "python",
   "name": "Python [insight_env]"
  },
  "language_info": {
   "codemirror_mode": {
    "name": "ipython",
    "version": 2
   },
   "file_extension": ".py",
   "mimetype": "text/x-python",
   "name": "python",
   "nbconvert_exporter": "python",
   "pygments_lexer": "ipython2",
   "version": "2.7.12"
  }
 },
 "nbformat": 4,
 "nbformat_minor": 2
}
