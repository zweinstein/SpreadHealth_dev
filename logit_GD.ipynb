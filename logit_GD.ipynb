{
 "cells": [
  {
   "cell_type": "markdown",
   "metadata": {
    "collapsed": false
   },
   "source": [
    "** Data Collection and Cleaning **\n",
    "\n",
    "The tweets were collected and partially preprocessed by the R script (collectTweets.R).\n",
    "Each retweet count has been normalized by the number of followers for the Twitter user."
   ]
  },
  {
   "cell_type": "code",
   "execution_count": 1,
   "metadata": {
    "collapsed": false
   },
   "outputs": [
    {
     "ename": "NameError",
     "evalue": "name 'matplotlib' is not defined",
     "output_type": "error",
     "traceback": [
      "\u001b[1;31m---------------------------------------------------------------------------\u001b[0m",
      "\u001b[1;31mNameError\u001b[0m                                 Traceback (most recent call last)",
      "\u001b[1;32m<ipython-input-1-eb13c7fb8ed3>\u001b[0m in \u001b[0;36m<module>\u001b[1;34m()\u001b[0m\n\u001b[0;32m     17\u001b[0m \u001b[1;32mimport\u001b[0m \u001b[0mmatplotlib\u001b[0m\u001b[1;33m.\u001b[0m\u001b[0mpyplot\u001b[0m \u001b[1;32mas\u001b[0m \u001b[0mplt\u001b[0m\u001b[1;33m\u001b[0m\u001b[0m\n\u001b[0;32m     18\u001b[0m \u001b[0mget_ipython\u001b[0m\u001b[1;33m(\u001b[0m\u001b[1;33m)\u001b[0m\u001b[1;33m.\u001b[0m\u001b[0mmagic\u001b[0m\u001b[1;33m(\u001b[0m\u001b[1;34mu'matplotlib inline'\u001b[0m\u001b[1;33m)\u001b[0m\u001b[1;33m\u001b[0m\u001b[0m\n\u001b[1;32m---> 19\u001b[1;33m \u001b[0mmatplotlib\u001b[0m\u001b[1;33m.\u001b[0m\u001b[0mstyle\u001b[0m\u001b[1;33m.\u001b[0m\u001b[0muse\u001b[0m\u001b[1;33m(\u001b[0m\u001b[1;34m'ggplot'\u001b[0m\u001b[1;33m)\u001b[0m\u001b[1;33m\u001b[0m\u001b[0m\n\u001b[0m\u001b[0;32m     20\u001b[0m \u001b[1;33m\u001b[0m\u001b[0m\n\u001b[0;32m     21\u001b[0m \u001b[1;31m### for vectorizing text & training ML algorithms:\u001b[0m\u001b[1;33m\u001b[0m\u001b[1;33m\u001b[0m\u001b[0m\n",
      "\u001b[1;31mNameError\u001b[0m: name 'matplotlib' is not defined"
     ]
    }
   ],
   "source": [
    "### for file IO:\n",
    "import os\n",
    "import codecs\n",
    "\n",
    "### for data analysis:\n",
    "import numpy as np\n",
    "import pandas as pd\n",
    "\n",
    "### for text cleaning & preprocessing:\n",
    "import re\n",
    "# import nltk\n",
    "# nltk.download('stopwords')\n",
    "from nltk.corpus import stopwords\n",
    "from nltk.stem.porter import PorterStemmer\n",
    "\n",
    "### for plotting:\n",
    "import matplotlib.pyplot as plt\n",
    "%matplotlib inline\n",
    "matplotlib.style.use('ggplot')\n",
    "\n",
    "### for vectorizing text & training ML algorithms:\n",
    "from sklearn.grid_search import GridSearchCV\n",
    "from sklearn.pipeline import Pipeline\n",
    "from sklearn.feature_extraction.text import TfidfVectorizer\n",
    "from sklearn.linear_model import LogisticRegression\n",
    "from sklearn.metrics import confusion_matrix\n",
    "from sklearn.externals import joblib # for pickling the pipeline\n",
    "\n",
    "from __future__ import print_function # use print as a function like in python3"
   ]
  },
  {
   "cell_type": "markdown",
   "metadata": {},
   "source": [
    "First, set the working directory, and load in the data:"
   ]
  },
  {
   "cell_type": "code",
   "execution_count": null,
   "metadata": {
    "collapsed": true
   },
   "outputs": [],
   "source": [
    "# Define work_dir as the current working directory\n",
    "os.chdir(work_dir)\n",
    "filename = 'tweets_w_pctRT0918to25_rmNL.csv'\n",
    "\n",
    "with codecs.open(filename, \"r\",encoding='utf-8', errors='ignore') as fdata:\n",
    "    DT = pd.read_csv(fdata)"
   ]
  },
  {
   "cell_type": "markdown",
   "metadata": {},
   "source": [
    "** Define functions to clean and tokenize tweet text data **"
   ]
  },
  {
   "cell_type": "code",
   "execution_count": 30,
   "metadata": {
    "collapsed": false
   },
   "outputs": [],
   "source": [
    "stop = stopwords.words('english')\n",
    "# [w for w in tokenizer_porter('a runner likes running and runs a lot')[-10:] if w not in stop]\n",
    "\n",
    "# print stop\n",
    "\n",
    "def rmURL(tweet):\n",
    "    #Convert to lower case\n",
    "    tweet = tweet.lower()\n",
    "    #Convert www.* or https?://* to URL\n",
    "    tweet = re.sub('((www\\.[^\\s]+)|(https?://[^\\s]+))','URL',tweet)\n",
    "    return tweet\n",
    "\n",
    "def rmMARK(tweet):\n",
    "    tweet = rmURL(tweet)\n",
    "    #Convert @username to ATusername\n",
    "    tweet = re.sub('@','AT',tweet)\n",
    "    #Replace # with HASH_TAG\n",
    "    tweet = re.sub('#', 'HASH', tweet)\n",
    "    #Temporarily store emoticons\n",
    "    emoticons = re.findall('(?::|;|=)(?:-)?(?:\\)|\\(|D|P)', tweet)\n",
    "    #Remove all non-word charactersand add the emoticons to \n",
    "    # the end of the processed document string\n",
    "    # remove emoticon nose to be consistent\n",
    "    tweet = re.sub('[\\W]+', ' ', tweet) + ' ' + \\\n",
    "            ' '.join(emoticons).replace('-', '')\n",
    "    #trim\n",
    "    tweet = tweet.strip('\\'\"')\n",
    "    return tweet\n",
    "\n",
    "def tweetCleaner(tweet):\n",
    "    tweet = rmURL(tweet)\n",
    "    #Convert @username to AT_USER\n",
    "    tweet = re.sub('@[^\\s]+','AT_USER',tweet)\n",
    "    #Replace # with HASH_TAG\n",
    "    tweet = re.sub('#', 'HASH_TAG ', tweet)\n",
    "    #Temporarily store emoticons\n",
    "    emoticons = re.findall('(?::|;|=)(?:-)?(?:\\)|\\(|D|P)', tweet)\n",
    "    #Remove all non-word charactersand add the emoticons to \n",
    "    # the end of the processed document string\n",
    "    # remove emoticon nose to be consistent\n",
    "    tweet = re.sub('[\\W]+', ' ', tweet) + ' ' + \\\n",
    "            ' '.join(emoticons).replace('-', '')\n",
    "    #trim\n",
    "    tweet = tweet.strip('\\'\"')\n",
    "    return tweet\n",
    "\n",
    "def rmURLtokenizer(tweet):\n",
    "    tweet = rmURL(tweet)\n",
    "    tw = [w for w in tweet.split() if w not in stop]\n",
    "    return tw\n",
    "\n",
    "def rmMARKtokenizer(tweet):\n",
    "    tweet = rmMARK(tweet)\n",
    "    tw = [w for w in tweet.split() if w not in stop]\n",
    "    return tw\n",
    "\n",
    "def tweetTokenizer(tweet):\n",
    "    tweet = tweetCleaner(tweet)\n",
    "    tw = [w for w in tweet.split() if w not in stop]\n",
    "    return tw\n",
    "\n",
    "porter = PorterStemmer()\n",
    "def rmURL_porter(text):\n",
    "    return [porter.stem(word) for word in rmURLtokenizer(text)]\n",
    "\n",
    "def rmMARK_porter(text):\n",
    "    return [porter.stem(word) for word in rmMARKtokenizer(text)]\n",
    "\n",
    "def tokenizer_porter(text):\n",
    "    return [porter.stem(word) for word in tweetTokenizer(text)]"
   ]
  },
  {
   "cell_type": "markdown",
   "metadata": {},
   "source": [
    "** Exploratory Data Analysis **\n",
    "\n",
    "Distribution of retweets (retweet percentage suggest that only about 1% of all tweets are retweeted, --not enough data for regression analysis of retweet counts."
   ]
  },
  {
   "cell_type": "code",
   "execution_count": 29,
   "metadata": {
    "collapsed": false
   },
   "outputs": [
    {
     "data": {
      "image/png": "[encoded data removed]",
      "text/plain": [
       "<matplotlib.figure.Figure at 0x7fd1f2240550>"
      ]
     },
     "metadata": {},
     "output_type": "display_data"
    }
   ],
   "source": [
    "fig, ax = plt.subplots()\n",
    "DT.pctRT.hist(ax=ax, bins=100, alpha=0.5, range=[0, 1])\n",
    "#ax.set_xscale('log')\n",
    "plt.xlabel('Retweet Freqency')\n",
    "plt.ylabel('Probability')\n",
    "plt.title('Histogram of Tweets')\n",
    "\n",
    "# Save the plot\n",
    "img = 'distribution.png'\n",
    "plt.tight_layout()\n",
    "plt.savefig(img, format='png',  dpi=300)"
   ]
  },
  {
   "cell_type": "code",
   "execution_count": 31,
   "metadata": {
    "collapsed": false
   },
   "outputs": [
    {
     "data": {
      "image/png": "[encoded data removed]",
      "text/plain": [
       "<matplotlib.figure.Figure at 0x7fd1e4967090>"
      ]
     },
     "metadata": {},
     "output_type": "display_data"
    }
   ],
   "source": [
    "fig, ax = plt.subplots()\n",
    "DT.pctRT.hist(ax=ax, bins=100, alpha=0.5, range=[0.001, 0.05])\n",
    "#ax.set_xscale('log')\n",
    "img = 'distribution_zoom.png'\n",
    "plt.tight_layout()\n",
    "plt.savefig(img, format='png',  dpi=300)"
   ]
  },
  {
   "cell_type": "markdown",
   "metadata": {
    "collapsed": true
   },
   "source": [
    "** Turn it into a Classification problem **\n",
    "\n",
    "Construct categorical tweets -- 0: Not Retweeted; 1: Retweeted with a threshold (0.5%)"
   ]
  },
  {
   "cell_type": "markdown",
   "metadata": {},
   "source": [
    "Notice the class imbalance. The percentage of positive class (retweeted) is only about 1% of all tweets:"
   ]
  },
  {
   "cell_type": "code",
   "execution_count": 49,
   "metadata": {
    "collapsed": false
   },
   "outputs": [
    {
     "name": "stdout",
     "output_type": "stream",
     "text": [
      "0.0118829890861\n"
     ]
    }
   ],
   "source": [
    "print( float(sum(DT.pctRT > 0.005))/df.shape[0] )"
   ]
  },
  {
   "cell_type": "markdown",
   "metadata": {},
   "source": [
    "Subsample Tweets that were not retweeted to roughly match the total number of tweets that were retweeted, so that the two categories have the same sample size."
   ]
  },
  {
   "cell_type": "code",
   "execution_count": 34,
   "metadata": {
    "collapsed": false
   },
   "outputs": [],
   "source": [
    "df = pd.DataFrame({\"tweet\": df.tweet, \"RTbinary\": (df.pctRT > 0.005).astype(int)})\n",
    "\n",
    "pos = df.ix[df['RTbinary'] == 1]\n",
    "neg = df.ix[df['RTbinary'] == 0]\n",
    "\n",
    "negtrain = neg.sample(n=10000-len(pos), random_state = 0)\n",
    "negtest = neg.drop(negtrain.index)\n",
    "\n",
    "df = pos.append(negtrain)"
   ]
  },
  {
   "cell_type": "code",
   "execution_count": 35,
   "metadata": {
    "collapsed": false
   },
   "outputs": [],
   "source": [
    "# Ramdom Shuffling:\n",
    "np.random.seed(0)\n",
    "df = df.reindex(np.random.permutation(df.index))"
   ]
  },
  {
   "cell_type": "code",
   "execution_count": 36,
   "metadata": {
    "collapsed": true
   },
   "outputs": [],
   "source": [
    "tweets = df['tweet'].values\n",
    "texts = []\n",
    "tokes = []\n",
    "for i in range(len(tweets)):\n",
    "    texts.append(tweetCleaner(tweets[i]))\n",
    "    tokes.append(tokenizer_porter(tweets[i]))\n",
    "    \n",
    "df['cleanTweet'] = texts\n",
    "df['tokenTweet'] = tokes"
   ]
  },
  {
   "cell_type": "markdown",
   "metadata": {},
   "source": [
    "Save the cleaned tweet data to hard disk, which is the data file used for training and testing the logistic regression with stochastic gradient descent:"
   ]
  },
  {
   "cell_type": "code",
   "execution_count": 41,
   "metadata": {
    "collapsed": false
   },
   "outputs": [],
   "source": [
    "dfClean = pd.DataFrame({\"RTbinary\": df.RTbinary, \"cleanTweet\": df.cleanTweet})\n",
    "dfClean.to_csv(\"rtBinaryClean.csv\", index=False, header=False)"
   ]
  },
  {
   "cell_type": "markdown",
   "metadata": {},
   "source": [
    "Split the roughly balanced dataset into train and test datasets:"
   ]
  },
  {
   "cell_type": "code",
   "execution_count": 37,
   "metadata": {
    "collapsed": false
   },
   "outputs": [],
   "source": [
    "train = df.sample(frac=0.8,random_state=200)\n",
    "test = df.drop(train.index)\n",
    "\n",
    "X_train = train.tweet.values\n",
    "y_train = train.RTbinary.values\n",
    "X_test = test.tweet.values\n",
    "y_test = test.RTbinary.values"
   ]
  },
  {
   "cell_type": "markdown",
   "metadata": {},
   "source": [
    "Use Scikit Learn GridSearch and Cross-validatoin to optimize the TFxIDF vectorization parameters including N-gram range, stopword list, tokenization, stemming, as well as logistic regression penalty and regularization. "
   ]
  },
  {
   "cell_type": "code",
   "execution_count": 17,
   "metadata": {
    "collapsed": false
   },
   "outputs": [
    {
     "name": "stdout",
     "output_type": "stream",
     "text": [
      "Fitting 5 folds for each of 288 candidates, totalling 1440 fits\n"
     ]
    },
    {
     "name": "stderr",
     "output_type": "stream",
     "text": [
      "[Parallel(n_jobs=-1)]: Done  34 tasks      | elapsed:   13.0s\n",
      "[Parallel(n_jobs=-1)]: Done 184 tasks      | elapsed:  1.3min\n",
      "[Parallel(n_jobs=-1)]: Done 434 tasks      | elapsed: 17.2min\n",
      "[Parallel(n_jobs=-1)]: Done 784 tasks      | elapsed: 20.8min\n",
      "[Parallel(n_jobs=-1)]: Done 1234 tasks      | elapsed: 24.7min\n",
      "[Parallel(n_jobs=-1)]: Done 1440 out of 1440 | elapsed: 27.0min finished\n"
     ]
    },
    {
     "data": {
      "text/plain": [
       "GridSearchCV(cv=5, error_score='raise',\n",
       "       estimator=Pipeline(steps=[('vect', TfidfVectorizer(analyzer=u'word', binary=False, decode_error=u'strict',\n",
       "        dtype=<type 'numpy.int64'>, encoding=u'utf-8', input=u'content',\n",
       "        lowercase=False, max_df=1.0, max_features=None, min_df=1,\n",
       "        ngram_range=(1, 1), norm=u'l2', preprocessor=None, smooth_idf=Tru...nalty='l2', random_state=0, solver='liblinear', tol=0.0001,\n",
       "          verbose=0, warm_start=False))]),\n",
       "       fit_params={}, iid=True, n_jobs=-1,\n",
       "       param_grid=[{'vect__ngram_range': [(1, 2), (1, 3)], 'vect__tokenizer': [<function rmURLtokenizer at 0x7f711d8a4b18>, <function rmMARKtokenizer at 0x7f711d8a4b90>, <function tweetTokenizer at 0x7f711d8a4c08>, <function rmURL_porter at 0x7f711d8a4c80>, <function rmMARK_porter at 0x7f711d8a4cf8>, <func...711d8a4d70>], 'vect__use_idf': [False], 'clf__C': [1.0, 10.0, 100.0], 'clf__penalty': ['l1', 'l2']}],\n",
       "       pre_dispatch='2*n_jobs', refit=True, scoring='accuracy', verbose=1)"
      ]
     },
     "execution_count": 17,
     "metadata": {},
     "output_type": "execute_result"
    }
   ],
   "source": [
    "tfidf = TfidfVectorizer(strip_accents=None, lowercase=False, preprocessor=None)\n",
    "\n",
    "param_grid = [\n",
    "    {'vect__ngram_range': [(1,2),(1,3)],\n",
    "     'vect__stop_words': [stop, None],\n",
    "     'vect__tokenizer': [rmURLtokenizer, rmMARKtokenizer, tweetTokenizer, \n",
    "                         rmURL_porter, rmMARK_porter, tokenizer_porter],\n",
    "     'clf__penalty': ['l1', 'l2'],\n",
    "     'clf__C': [1.0, 10.0, 100.0]},\n",
    "    {'vect__ngram_range': [(1,2),(1,3)],\n",
    "     'vect__stop_words': [stop, None],\n",
    "     'vect__tokenizer': [rmURLtokenizer, rmMARKtokenizer, tweetTokenizer, \n",
    "                         rmURL_porter, rmMARK_porter, tokenizer_porter],\n",
    "     'vect__use_idf':[False],\n",
    "     'vect__norm':[None],\n",
    "     'clf__penalty': ['l1', 'l2'],\n",
    "     'clf__C': [1.0, 10.0, 100.0]}\n",
    "]\n",
    "\n",
    "lr_tfidf = Pipeline([ ('vect', tfidf), ('clf', LogisticRegression(random_state=0)) ])\n",
    "\n",
    "gs_lr_tfidf = GridSearchCV(lr_tfidf, param_grid, scoring='accuracy',\n",
    "                           cv=5, verbose=1, n_jobs=-1)\n",
    "\n",
    "gs_lr_tfidf.fit(X_train, y_train)"
   ]
  },
  {
   "cell_type": "markdown",
   "metadata": {},
   "source": [
    "Print out the best parameter set and accuracy on the test dataset (compared to the random chance):"
   ]
  },
  {
   "cell_type": "code",
   "execution_count": 18,
   "metadata": {
    "collapsed": false
   },
   "outputs": [
    {
     "name": "stdout",
     "output_type": "stream",
     "text": [
      "Best parameter set: {'vect__ngram_range': (1, 3), 'vect__tokenizer': <function tokenizer_porter at 0x7f711d8a4d70>, 'vect__stop_words': [u'i', u'me', u'my', u'myself', u'we', u'our', u'ours', u'ourselves', u'you', u'your', u'yours', u'yourself', u'yourselves', u'he', u'him', u'his', u'himself', u'she', u'her', u'hers', u'herself', u'it', u'its', u'itself', u'they', u'them', u'their', u'theirs', u'themselves', u'what', u'which', u'who', u'whom', u'this', u'that', u'these', u'those', u'am', u'is', u'are', u'was', u'were', u'be', u'been', u'being', u'have', u'has', u'had', u'having', u'do', u'does', u'did', u'doing', u'a', u'an', u'the', u'and', u'but', u'if', u'or', u'because', u'as', u'until', u'while', u'of', u'at', u'by', u'for', u'with', u'about', u'against', u'between', u'into', u'through', u'during', u'before', u'after', u'above', u'below', u'to', u'from', u'up', u'down', u'in', u'out', u'on', u'off', u'over', u'under', u'again', u'further', u'then', u'once', u'here', u'there', u'when', u'where', u'why', u'how', u'all', u'any', u'both', u'each', u'few', u'more', u'most', u'other', u'some', u'such', u'no', u'nor', u'not', u'only', u'own', u'same', u'so', u'than', u'too', u'very', u's', u't', u'can', u'will', u'just', u'don', u'should', u'now', u'd', u'll', u'm', u'o', u're', u've', u'y', u'ain', u'aren', u'couldn', u'didn', u'doesn', u'hadn', u'hasn', u'haven', u'isn', u'ma', u'mightn', u'mustn', u'needn', u'shan', u'shouldn', u'wasn', u'weren', u'won', u'wouldn'], 'vect__norm': None, 'clf__penalty': 'l2', 'clf__C': 1.0, 'vect__use_idf': False}\n",
      "CV Accuracy: 0.756\n",
      "Test Accuracy: 0.769\n",
      "Random Chance Accuracy in Test Set: 0.490\n"
     ]
    }
   ],
   "source": [
    "print('Best parameter set: %s' % gs_lr_tfidf.best_params_)\n",
    "print('CV Accuracy: %.3f' % gs_lr_tfidf.best_score_)\n",
    "\n",
    "clf = gs_lr_tfidf.best_estimator_\n",
    "print('Test Accuracy: %.3f' % clf.score(X_test, y_test))\n",
    "\n",
    "pct = float(sum(y_test))/len(y_test)\n",
    "print('Random Chance Accuracy in Test Set: %.3f' % pct)"
   ]
  },
  {
   "cell_type": "markdown",
   "metadata": {},
   "source": [
    "Best parameter set is the same for a number of different train/test split creterion (i.e., pctRT > 0.005 or pctRT >0):\n",
    "\n",
    "{'vect__ngram_range': (1, 3), 'vect__tokenizer': <function tweetTokenizer at 0x7f48b3a5dc08>, 'clf__penalty': 'l2', 'clf__C': 100.0, 'vect__stop_words': [u'i', u'me', u'my', u'myself', u'we', u'our', u'ours', u'ourselves', u'you', u'your', u'yours', u'yourself', u'yourselves', u'he', u'him', u'his', u'himself', u'she', u'her', u'hers', u'herself', u'it', u'its', u'itself', u'they', u'them', u'their', u'theirs', u'themselves', u'what', u'which', u'who', u'whom', u'this', u'that', u'these', u'those', u'am', u'is', u'are', u'was', u'were', u'be', u'been', u'being', u'have', u'has', u'had', u'having', u'do', u'does', u'did', u'doing', u'a', u'an', u'the', u'and', u'but', u'if', u'or', u'because', u'as', u'until', u'while', u'of', u'at', u'by', u'for', u'with', u'about', u'against', u'between', u'into', u'through', u'during', u'before', u'after', u'above', u'below', u'to', u'from', u'up', u'down', u'in', u'out', u'on', u'off', u'over', u'under', u'again', u'further', u'then', u'once', u'here', u'there', u'when', u'where', u'why', u'how', u'all', u'any', u'both', u'each', u'few', u'more', u'most', u'other', u'some', u'such', u'no', u'nor', u'not', u'only', u'own', u'same', u'so', u'than', u'too', u'very', u's', u't', u'can', u'will', u'just', u'don', u'should', u'now', u'd', u'll', u'm', u'o', u're', u've', u'y', u'ain', u'aren', u'couldn', u'didn', u'doesn', u'hadn', u'hasn', u'haven', u'isn', u'ma', u'mightn', u'mustn', u'needn', u'shan', u'shouldn', u'wasn', u'weren', u'won', u'wouldn']}\n",
    "\n",
    "\n",
    "CV Accuracy: 0.750\n",
    "\n",
    "Test Accuracy: 0.751\n",
    "\n",
    "Random Chance Accuracy in Test Set: 0.490\n"
   ]
  },
  {
   "cell_type": "markdown",
   "metadata": {},
   "source": [
    "Combine the test dataset with the unused tweets from the negative class to form an imbalanced dataset to test the performance of the model:"
   ]
  },
  {
   "cell_type": "code",
   "execution_count": 20,
   "metadata": {
    "collapsed": false
   },
   "outputs": [
    {
     "name": "stdout",
     "output_type": "stream",
     "text": [
      "(374102, 4)\n",
      "980\n"
     ]
    }
   ],
   "source": [
    "test_all = test.append(negtest)\n",
    "print( test_all.shape )# total tweets\n",
    "print( sum(test_all['RTbinary']) )# number of retweeted tweets"
   ]
  },
  {
   "cell_type": "code",
   "execution_count": 21,
   "metadata": {
    "collapsed": true
   },
   "outputs": [],
   "source": [
    "# Ramdom Shuffling:\n",
    "np.random.seed(999)\n",
    "test_all = test_all.reindex(np.random.permutation(test_all.index))"
   ]
  },
  {
   "cell_type": "code",
   "execution_count": 22,
   "metadata": {
    "collapsed": true
   },
   "outputs": [],
   "source": [
    "X_test = test_all.tweet.values\n",
    "y_test = test_all.RTbinary.values\n",
    "y_pred = clf.predict(X_test)"
   ]
  },
  {
   "cell_type": "markdown",
   "metadata": {},
   "source": [
    "Plot confusion matrix to check the sensitivity and specificity of the classifier:"
   ]
  },
  {
   "cell_type": "code",
   "execution_count": 42,
   "metadata": {
    "collapsed": false
   },
   "outputs": [],
   "source": [
    "def plot_confusion_matrix(cm, title='Confusion matrix', cmap=plt.cm.Blues):\n",
    "    plt.imshow(cm, interpolation='nearest', cmap=cmap)\n",
    "    # plt.title(title, fontsize = 18)\n",
    "    plt.colorbar()\n",
    "    tick_marks = [0,1] #np.arange(len(iris.target_names))\n",
    "    plt.xticks(tick_marks, fontsize = 14) #(tick_marks, iris.target_names, rotation=45)\n",
    "    plt.yticks(tick_marks, fontsize = 14) # (tick_marks, iris.target_names)\n",
    "    plt.tight_layout()\n",
    "    plt.ylabel('True Labels', fontsize = 16)\n",
    "    plt.xlabel('Predicted Labels', fontsize= 16)"
   ]
  },
  {
   "cell_type": "markdown",
   "metadata": {},
   "source": [
    "Compute Confusion Matrix:"
   ]
  },
  {
   "cell_type": "code",
   "execution_count": 43,
   "metadata": {
    "collapsed": true
   },
   "outputs": [],
   "source": [
    "labels = [0, 1]\n",
    "cm = confusion_matrix(y_test, y_pred, labels)"
   ]
  },
  {
   "cell_type": "markdown",
   "metadata": {},
   "source": [
    "Since the samples in the testset are highly imbalanced, i.e., only 0.3% tweets were retweeted, we should look at the normalized confusion matrix:"
   ]
  },
  {
   "cell_type": "code",
   "execution_count": 44,
   "metadata": {
    "collapsed": false,
    "scrolled": true
   },
   "outputs": [
    {
     "name": "stdout",
     "output_type": "stream",
     "text": [
      "Normalized confusion matrix\n",
      "[[ 0.81  0.19]\n",
      " [ 0.26  0.74]]\n"
     ]
    },
    {
     "data": {
      "image/png": "[encoded data removed]",
      "text/plain": [
       "<matplotlib.figure.Figure at 0x7fd1e3256590>"
      ]
     },
     "metadata": {},
     "output_type": "display_data"
    }
   ],
   "source": [
    "# Normalize the confusion matrix by row (i.e by the number of samples in each class)\n",
    "cm_normalized = cm.astype('float') / cm.sum(axis=1)[:, np.newaxis]\n",
    "np.set_printoptions(precision=2)\n",
    "print('Normalized confusion matrix')\n",
    "print(cm_normalized)\n",
    "plt.figure()\n",
    "plot_confusion_matrix(cm_normalized, title='Normalized confusion matrix')\n",
    "img = 'normCM.png'\n",
    "plt.tight_layout()\n",
    "plt.savefig(img, format='png',  dpi=600)\n",
    "plt.show()"
   ]
  },
  {
   "cell_type": "markdown",
   "metadata": {},
   "source": [
    "Pickle the pipeline into one file using joblib:"
   ]
  },
  {
   "cell_type": "code",
   "execution_count": 68,
   "metadata": {
    "collapsed": false
   },
   "outputs": [
    {
     "data": {
      "text/plain": [
       "['clf.pkl']"
      ]
     },
     "execution_count": 68,
     "metadata": {},
     "output_type": "execute_result"
    }
   ],
   "source": [
    "joblib.dump(clf, 'classifier_alterMed_logit.pkl', compress = 1)"
   ]
  }
 ],
 "metadata": {
  "kernelspec": {
   "display_name": "Python [insight_env]",
   "language": "python",
   "name": "Python [insight_env]"
  },
  "language_info": {
   "codemirror_mode": {
    "name": "ipython",
    "version": 2
   },
   "file_extension": ".py",
   "mimetype": "text/x-python",
   "name": "python",
   "nbconvert_exporter": "python",
   "pygments_lexer": "ipython2",
   "version": "2.7.12"
  }
 },
 "nbformat": 4,
 "nbformat_minor": 0
}
