{
 "cells": [
  {
   "cell_type": "markdown",
   "metadata": {},
   "source": [
    "# Develop a Classifier with Logistic Regression"
   ]
  },
  {
   "cell_type": "code",
   "execution_count": 37,
   "metadata": {
    "collapsed": true
   },
   "outputs": [],
   "source": [
    "### for file IO:\n",
    "import os\n",
    "work_dir = os.getcwd()\n",
    "\n",
    "import codecs\n",
    "from sklearn.externals import joblib # for pickling the pipeline\n",
    "\n",
    "### for data analysis:\n",
    "import numpy as np\n",
    "import pandas as pd\n",
    "\n",
    "### for text cleaning & preprocessing:\n",
    "import re\n",
    "# import nltk\n",
    "# nltk.download('stopwords')\n",
    "from nltk.corpus import stopwords\n",
    "from nltk.stem.porter import PorterStemmer\n",
    "\n",
    "### for plotting:\n",
    "import matplotlib\n",
    "import matplotlib.pyplot as plt\n",
    "%matplotlib inline\n",
    "matplotlib.style.use('ggplot')\n",
    "\n",
    "### for vectorizing text & training ML algorithms:\n",
    "from sklearn.model_selection import GridSearchCV, train_test_split\n",
    "from sklearn.pipeline import Pipeline\n",
    "from sklearn.feature_extraction.text import TfidfVectorizer\n",
    "from sklearn.linear_model import LogisticRegression\n",
    "from sklearn.metrics import confusion_matrix, classification_report\n",
    "from sklearn.externals import joblib # for pickling the pipeline\n",
    "\n",
    "from __future__ import print_function # use print as a function like in python3"
   ]
  },
  {
   "cell_type": "markdown",
   "metadata": {},
   "source": [
    "## Define functions used for cleaning and tokenizing tweets. \n",
    "We can use grid search (later in this script) to find the best combination of parameters."
   ]
  },
  {
   "cell_type": "code",
   "execution_count": 38,
   "metadata": {
    "collapsed": true
   },
   "outputs": [],
   "source": [
    "stop = stopwords.words('english')\n",
    "\n",
    "def rmURL(tweet):\n",
    "    #Convert to lower case\n",
    "    tweet = tweet.lower()\n",
    "    #Convert www.* or https?://* to URL\n",
    "    tweet = re.sub('((www\\.[^\\s]+)|(https?://[^\\s]+))','URL',tweet)\n",
    "    return tweet\n",
    "\n",
    "def rmMARK(tweet):\n",
    "    tweet = rmURL(tweet)\n",
    "    #Convert @username to ATusername\n",
    "    tweet = re.sub('@','AT',tweet)\n",
    "    #Replace # with HASH_TAG\n",
    "    tweet = re.sub('#', 'HASH', tweet)\n",
    "    #Temporarily store emoticons\n",
    "    emoticons = re.findall('(?::|;|=)(?:-)?(?:\\)|\\(|D|P)', tweet)\n",
    "    #Remove all non-word charactersand add the emoticons to \n",
    "    # the end of the processed document string\n",
    "    # remove emoticon nose to be consistent\n",
    "    tweet = re.sub('[\\W]+', ' ', tweet) + ' ' + \\\n",
    "            ' '.join(emoticons).replace('-', '')\n",
    "    #trim\n",
    "    tweet = tweet.strip('\\'\"')\n",
    "    return tweet\n",
    "\n",
    "def tweetCleaner(tweet):\n",
    "    tweet = rmURL(tweet)\n",
    "    #Convert @username to AT_USER\n",
    "    tweet = re.sub('@[^\\s]+','AT_USER',tweet)\n",
    "    #Replace # with HASH_TAG\n",
    "    tweet = re.sub('#', 'HASH_TAG ', tweet)\n",
    "    #Temporarily store emoticons\n",
    "    emoticons = re.findall('(?::|;|=)(?:-)?(?:\\)|\\(|D|P)', tweet)\n",
    "    #Remove all non-word charactersand add the emoticons to \n",
    "    # the end of the processed document string\n",
    "    # remove emoticon nose to be consistent\n",
    "    tweet = re.sub('[\\W]+', ' ', tweet) + ' ' + \\\n",
    "            ' '.join(emoticons).replace('-', '')\n",
    "    #trim\n",
    "    tweet = tweet.strip('\\'\"')\n",
    "    return tweet\n",
    "\n",
    "def rmURLtokenizer(tweet):\n",
    "    tweet = rmURL(tweet)\n",
    "    tw = [w for w in tweet.split() if w not in stop]\n",
    "    return tw\n",
    "\n",
    "def rmMARKtokenizer(tweet):\n",
    "    tweet = rmMARK(tweet)\n",
    "    tw = [w for w in tweet.split() if w not in stop]\n",
    "    return tw\n",
    "\n",
    "def tweetTokenizer(tweet):\n",
    "    tweet = tweetCleaner(tweet)\n",
    "    tw = [w for w in tweet.split() if w not in stop]\n",
    "    return tw\n",
    "\n",
    "porter = PorterStemmer()\n",
    "def rmURL_porter(text):\n",
    "    return [porter.stem(word) for word in rmURLtokenizer(text)]\n",
    "\n",
    "def rmMARK_porter(text):\n",
    "    return [porter.stem(word) for word in rmMARKtokenizer(text)]\n",
    "\n",
    "def tokenizer_porter(text):\n",
    "    return [porter.stem(word) for word in tweetTokenizer(text)]"
   ]
  },
  {
   "cell_type": "markdown",
   "metadata": {},
   "source": [
    "## Load in the pickled data frame:"
   ]
  },
  {
   "cell_type": "code",
   "execution_count": 39,
   "metadata": {
    "collapsed": true
   },
   "outputs": [],
   "source": [
    "df = pd.read_pickle('healthcare_RTbinary_pandasDF.pkl')"
   ]
  },
  {
   "cell_type": "code",
   "execution_count": 40,
   "metadata": {
    "collapsed": false
   },
   "outputs": [
    {
     "name": "stdout",
     "output_type": "stream",
     "text": [
      "(28975, 2)\n",
      "(276330, 2)\n"
     ]
    }
   ],
   "source": [
    "pos = df.ix[df['RTbinary'] == 1]\n",
    "neg = df.ix[df['RTbinary'] == 0]\n",
    "\n",
    "print(pos.shape)\n",
    "print(neg.shape)"
   ]
  },
  {
   "cell_type": "markdown",
   "metadata": {},
   "source": [
    "Subsample Tweets that were not retweeted to roughly match the total number of tweets that were retweeted, so that the two categories have the same sample size."
   ]
  },
  {
   "cell_type": "code",
   "execution_count": 41,
   "metadata": {
    "collapsed": true
   },
   "outputs": [],
   "source": [
    "negtrain = neg.sample(n = pos.shape[0],random_state=0)\n",
    "negtest = neg.drop(negtrain.index)"
   ]
  },
  {
   "cell_type": "code",
   "execution_count": 42,
   "metadata": {
    "collapsed": false
   },
   "outputs": [
    {
     "name": "stdout",
     "output_type": "stream",
     "text": [
      "(57950, 2)\n"
     ]
    }
   ],
   "source": [
    "df = pos.append(negtrain)\n",
    "print(df.shape)"
   ]
  },
  {
   "cell_type": "code",
   "execution_count": 43,
   "metadata": {
    "collapsed": true
   },
   "outputs": [],
   "source": [
    "# Random Shuffling:\n",
    "np.random.seed(0)\n",
    "df = df.reindex(np.random.permutation(df.index))"
   ]
  },
  {
   "cell_type": "code",
   "execution_count": 44,
   "metadata": {
    "collapsed": false,
    "scrolled": true
   },
   "outputs": [
    {
     "data": {
      "text/html": [
       "<div>\n",
       "<table border=\"1\" class=\"dataframe\">\n",
       "  <thead>\n",
       "    <tr style=\"text-align: right;\">\n",
       "      <th></th>\n",
       "      <th>RTbinary</th>\n",
       "      <th>tweet</th>\n",
       "    </tr>\n",
       "  </thead>\n",
       "  <tbody>\n",
       "    <tr>\n",
       "      <th>608892</th>\n",
       "      <td>True</td>\n",
       "      <td>RT @IESHealthcare: Pursue a career in emergenc...</td>\n",
       "    </tr>\n",
       "    <tr>\n",
       "      <th>33185</th>\n",
       "      <td>False</td>\n",
       "      <td>Want to work in #Jacksonville, FL? View our la...</td>\n",
       "    </tr>\n",
       "    <tr>\n",
       "      <th>358323</th>\n",
       "      <td>False</td>\n",
       "      <td>\"Earn attractive honorarium by taking medical ...</td>\n",
       "    </tr>\n",
       "    <tr>\n",
       "      <th>373739</th>\n",
       "      <td>True</td>\n",
       "      <td>RT @carrollu: Welcome to @Donn_DimondPT '98, o...</td>\n",
       "    </tr>\n",
       "    <tr>\n",
       "      <th>348749</th>\n",
       "      <td>True</td>\n",
       "      <td>I don't want the NHS to spend its time on immi...</td>\n",
       "    </tr>\n",
       "  </tbody>\n",
       "</table>\n",
       "</div>"
      ],
      "text/plain": [
       "       RTbinary                                              tweet\n",
       "608892     True  RT @IESHealthcare: Pursue a career in emergenc...\n",
       "33185     False  Want to work in #Jacksonville, FL? View our la...\n",
       "358323    False  \"Earn attractive honorarium by taking medical ...\n",
       "373739     True  RT @carrollu: Welcome to @Donn_DimondPT '98, o...\n",
       "348749     True  I don't want the NHS to spend its time on immi..."
      ]
     },
     "execution_count": 44,
     "metadata": {},
     "output_type": "execute_result"
    }
   ],
   "source": [
    "df.head()"
   ]
  },
  {
   "cell_type": "markdown",
   "metadata": {},
   "source": [
    "## Train / Test Split:\n",
    "Split the roughly balanced dataset into train and test datasets:"
   ]
  },
  {
   "cell_type": "code",
   "execution_count": 68,
   "metadata": {
    "collapsed": true
   },
   "outputs": [],
   "source": [
    "X_train, X_test, y_train, y_test = train_test_split(df.tweet.values,df.RTbinary.values, train_size = 0.8,random_state=0)"
   ]
  },
  {
   "cell_type": "markdown",
   "metadata": {},
   "source": [
    "Use Scikit Learn GridSearch and Cross-validatoin to optimize the TFxIDF vectorization parameters including N-gram range, stopword list, tokenization, stemming, as well as logistic regression penalty and regularization. "
   ]
  },
  {
   "cell_type": "code",
   "execution_count": 25,
   "metadata": {
    "collapsed": false,
    "scrolled": false
   },
   "outputs": [
    {
     "name": "stdout",
     "output_type": "stream",
     "text": [
      "Fitting 5 folds for each of 288 candidates, totalling 1440 fits\n"
     ]
    },
    {
     "name": "stderr",
     "output_type": "stream",
     "text": [
      "[Parallel(n_jobs=-1)]: Done  34 tasks      | elapsed:  1.4min\n",
      "[Parallel(n_jobs=-1)]: Done 184 tasks      | elapsed:  8.6min\n",
      "[Parallel(n_jobs=-1)]: Done 434 tasks      | elapsed: 114.1min\n",
      "[Parallel(n_jobs=-1)]: Done 784 tasks      | elapsed: 141.7min\n",
      "[Parallel(n_jobs=-1)]: Done 1234 tasks      | elapsed: 183.8min\n",
      "[Parallel(n_jobs=-1)]: Done 1440 out of 1440 | elapsed: 216.1min finished\n"
     ]
    },
    {
     "data": {
      "text/plain": [
       "GridSearchCV(cv=5, error_score='raise',\n",
       "       estimator=Pipeline(steps=[('vect', TfidfVectorizer(analyzer=u'word', binary=False, decode_error=u'strict',\n",
       "        dtype=<type 'numpy.int64'>, encoding=u'utf-8', input=u'content',\n",
       "        lowercase=False, max_df=1.0, max_features=None, min_df=1,\n",
       "        ngram_range=(1, 1), norm=u'l2', preprocessor=None, smooth_idf=Tru...nalty='l2', random_state=0, solver='liblinear', tol=0.0001,\n",
       "          verbose=0, warm_start=False))]),\n",
       "       fit_params={}, iid=True, n_jobs=-1,\n",
       "       param_grid=[{'vect__ngram_range': [(1, 2), (1, 3)], 'vect__tokenizer': [<function rmURLtokenizer at 0x7f268270c0c8>, <function rmMARKtokenizer at 0x7f268270c140>, <function tweetTokenizer at 0x7f268270c1b8>, <function rmURL_porter at 0x7f268270c230>, <function rmMARK_porter at 0x7f268270c2a8>, <func...268270c320>], 'vect__use_idf': [False], 'clf__C': [1.0, 10.0, 100.0], 'clf__penalty': ['l1', 'l2']}],\n",
       "       pre_dispatch='2*n_jobs', refit=True, scoring='accuracy', verbose=1)"
      ]
     },
     "execution_count": 25,
     "metadata": {},
     "output_type": "execute_result"
    }
   ],
   "source": [
    "tfidf = TfidfVectorizer(strip_accents=None, lowercase=False, preprocessor=None)\n",
    "from sklearn.ensemble import RandomForestClassifier\n",
    "param_grid = [\n",
    "    {'vect__ngram_range': [(1,2),(1,3)],\n",
    "     'vect__stop_words': [stop, None],\n",
    "     'vect__tokenizer': [rmURLtokenizer, rmMARKtokenizer, tweetTokenizer, \n",
    "                         rmURL_porter, rmMARK_porter, tokenizer_porter],\n",
    "     'clf__penalty': ['l1', 'l2'],\n",
    "     'clf__C': [1.0, 10.0, 100.0]},\n",
    "    {'vect__ngram_range': [(1,2),(1,3)],\n",
    "     'vect__stop_words': [stop, None],\n",
    "     'vect__tokenizer': [rmURLtokenizer, rmMARKtokenizer, tweetTokenizer, \n",
    "                         rmURL_porter, rmMARK_porter, tokenizer_porter],\n",
    "     'vect__use_idf':[False],\n",
    "     'vect__norm':[None],\n",
    "     'clf__penalty': ['l1', 'l2'],\n",
    "     'clf__C': [1.0, 10.0, 100.0]}\n",
    "] \n",
    "\n",
    "lr_tfidf = Pipeline([ ('vect', tfidf), ('clf', LogisticRegression(random_state=0)) ])\n",
    "\n",
    "gs_lr_tfidf = GridSearchCV(lr_tfidf, param_grid, scoring='accuracy',\n",
    "                           cv=5, verbose=1, n_jobs=-1)\n",
    "\n",
    "gs_lr_tfidf.fit(X_train, y_train)"
   ]
  },
  {
   "cell_type": "markdown",
   "metadata": {},
   "source": [
    "## Evaluate the model performance using Test dataset"
   ]
  },
  {
   "cell_type": "code",
   "execution_count": 26,
   "metadata": {
    "collapsed": false
   },
   "outputs": [
    {
     "name": "stdout",
     "output_type": "stream",
     "text": [
      "Best parameter set: {'vect__ngram_range': (1, 3), 'vect__tokenizer': <function rmURLtokenizer at 0x7f268270c0c8>, 'vect__stop_words': [u'i', u'me', u'my', u'myself', u'we', u'our', u'ours', u'ourselves', u'you', u'your', u'yours', u'yourself', u'yourselves', u'he', u'him', u'his', u'himself', u'she', u'her', u'hers', u'herself', u'it', u'its', u'itself', u'they', u'them', u'their', u'theirs', u'themselves', u'what', u'which', u'who', u'whom', u'this', u'that', u'these', u'those', u'am', u'is', u'are', u'was', u'were', u'be', u'been', u'being', u'have', u'has', u'had', u'having', u'do', u'does', u'did', u'doing', u'a', u'an', u'the', u'and', u'but', u'if', u'or', u'because', u'as', u'until', u'while', u'of', u'at', u'by', u'for', u'with', u'about', u'against', u'between', u'into', u'through', u'during', u'before', u'after', u'above', u'below', u'to', u'from', u'up', u'down', u'in', u'out', u'on', u'off', u'over', u'under', u'again', u'further', u'then', u'once', u'here', u'there', u'when', u'where', u'why', u'how', u'all', u'any', u'both', u'each', u'few', u'more', u'most', u'other', u'some', u'such', u'no', u'nor', u'not', u'only', u'own', u'same', u'so', u'than', u'too', u'very', u's', u't', u'can', u'will', u'just', u'don', u'should', u'now', u'd', u'll', u'm', u'o', u're', u've', u'y', u'ain', u'aren', u'couldn', u'didn', u'doesn', u'hadn', u'hasn', u'haven', u'isn', u'ma', u'mightn', u'mustn', u'needn', u'shan', u'shouldn', u'wasn', u'weren', u'won', u'wouldn'], 'vect__norm': None, 'clf__penalty': 'l2', 'clf__C': 1.0, 'vect__use_idf': False}\n",
      "CV Accuracy: 0.810\n",
      "Test Accuracy: 0.808\n",
      "Random Chance Accuracy in Test Set: 0.500\n"
     ]
    }
   ],
   "source": [
    "print('Best parameter set: %s' % gs_lr_tfidf.best_params_)\n",
    "print('CV Accuracy: %.3f' % gs_lr_tfidf.best_score_)\n",
    "\n",
    "clf = gs_lr_tfidf.best_estimator_\n",
    "print('Test Accuracy: %.3f' % clf.score(X_test, y_test))\n",
    "\n",
    "pct = float(sum(y_test))/len(y_test)\n",
    "print('Random Chance Accuracy in Test Set: %.3f' % pct)"
   ]
  },
  {
   "cell_type": "code",
   "execution_count": 27,
   "metadata": {
    "collapsed": true
   },
   "outputs": [],
   "source": [
    "y_pred = clf.predict(X_test)"
   ]
  },
  {
   "cell_type": "code",
   "execution_count": 28,
   "metadata": {
    "collapsed": true
   },
   "outputs": [],
   "source": [
    "def plot_confusion_matrix(cm, title='Confusion matrix', cmap=plt.cm.Blues):\n",
    "    plt.imshow(cm, interpolation='nearest', cmap=cmap)\n",
    "    # plt.title(title, fontsize = 18)\n",
    "    plt.colorbar()\n",
    "    tick_marks = [0,1] \n",
    "    plt.xticks(tick_marks, fontsize = 14) \n",
    "    plt.yticks(tick_marks, fontsize = 14) \n",
    "    plt.tight_layout()\n",
    "    plt.ylabel('True Labels', fontsize = 16)\n",
    "    plt.xlabel('Predicted Labels', fontsize= 16)"
   ]
  },
  {
   "cell_type": "code",
   "execution_count": 29,
   "metadata": {
    "collapsed": true
   },
   "outputs": [],
   "source": [
    "labels = [0, 1]\n",
    "cm = confusion_matrix(y_test, y_pred, labels)"
   ]
  },
  {
   "cell_type": "code",
   "execution_count": 30,
   "metadata": {
    "collapsed": false,
    "scrolled": false
   },
   "outputs": [
    {
     "name": "stdout",
     "output_type": "stream",
     "text": [
      "Normalized confusion matrix\n",
      "[[ 0.86  0.14]\n",
      " [ 0.24  0.76]]\n"
     ]
    },
    {
     "data": {
      "image/png": "[encoded data removed]",
      "text/plain": [
       "<matplotlib.figure.Figure at 0x7f262e270f90>"
      ]
     },
     "metadata": {},
     "output_type": "display_data"
    }
   ],
   "source": [
    "cm_normalized = cm.astype('float') / cm.sum(axis=1)[:, np.newaxis]\n",
    "np.set_printoptions(precision=2)\n",
    "print('Normalized confusion matrix')\n",
    "print(cm_normalized)\n",
    "plt.figure()\n",
    "plot_confusion_matrix(cm_normalized, title='Normalized confusion matrix')\n",
    "img = 'normCM.png'\n",
    "plt.tight_layout()"
   ]
  },
  {
   "cell_type": "code",
   "execution_count": 32,
   "metadata": {
    "collapsed": false
   },
   "outputs": [
    {
     "name": "stdout",
     "output_type": "stream",
     "text": [
      "             precision    recall  f1-score   support\n",
      "\n",
      "          0       0.78      0.86      0.82      5796\n",
      "          1       0.84      0.76      0.80      5794\n",
      "\n",
      "avg / total       0.81      0.81      0.81     11590\n",
      "\n"
     ]
    }
   ],
   "source": [
    "cls_report = classification_report(y_test, y_pred, labels) \n",
    "print(cls_report)"
   ]
  },
  {
   "cell_type": "markdown",
   "metadata": {},
   "source": [
    "### When the test set is balanced between the two classes, the algorithms perform pretty well. In real world, there are many more tweets that are not retweeted than those that get retweets. Combine the test dataset with the unused tweets from the negative class to form an imbalanced dataset to test the performance of the model:"
   ]
  },
  {
   "cell_type": "code",
   "execution_count": 52,
   "metadata": {
    "collapsed": false
   },
   "outputs": [],
   "source": [
    "X_allTest = np.append(X_test, negtest.tweet.values)\n",
    "y_allTest = np.append(y_test, negtest.RTbinary.values)"
   ]
  },
  {
   "cell_type": "code",
   "execution_count": 55,
   "metadata": {
    "collapsed": false
   },
   "outputs": [],
   "source": [
    "clf = joblib.load('classifier_healthcare_logit.pkl')"
   ]
  },
  {
   "cell_type": "code",
   "execution_count": 57,
   "metadata": {
    "collapsed": true
   },
   "outputs": [],
   "source": [
    "y_allPred = clf.predict(X_allTest)"
   ]
  },
  {
   "cell_type": "code",
   "execution_count": 75,
   "metadata": {
    "collapsed": true
   },
   "outputs": [],
   "source": [
    "def plot_confusion_matrix(cm, title='Confusion matrix', cmap=plt.cm.Blues):\n",
    "    plt.imshow(cm, interpolation='nearest', cmap=cmap)\n",
    "    # plt.title(title, fontsize = 18)\n",
    "    plt.colorbar()\n",
    "    tick_marks = [0,1] #np.arange(len(iris.target_names))\n",
    "    plt.xticks(tick_marks, fontsize = 14) #(tick_marks, iris.target_names, rotation=45)\n",
    "    plt.yticks(tick_marks, fontsize = 14) # (tick_marks, iris.target_names)\n",
    "    plt.tight_layout()\n",
    "    plt.ylabel('True Labels', fontsize = 16)\n",
    "    plt.xlabel('Predicted Labels', fontsize= 16)"
   ]
  },
  {
   "cell_type": "code",
   "execution_count": 66,
   "metadata": {
    "collapsed": false
   },
   "outputs": [],
   "source": [
    "labels = [False, True]\n",
    "cm = confusion_matrix(y_allTest==1, y_allPred==1, labels)"
   ]
  },
  {
   "cell_type": "code",
   "execution_count": 76,
   "metadata": {
    "collapsed": false,
    "scrolled": false
   },
   "outputs": [
    {
     "name": "stdout",
     "output_type": "stream",
     "text": [
      "Normalized confusion matrix\n",
      "[[ 0.86  0.14]\n",
      " [ 0.24  0.76]]\n"
     ]
    },
    {
     "data": {
      "image/png": "[encoded data removed]",
      "text/plain": [
       "<matplotlib.figure.Figure at 0x7f53ef5f1450>"
      ]
     },
     "metadata": {},
     "output_type": "display_data"
    }
   ],
   "source": [
    "cm_normalized = cm.astype('float') / cm.sum(axis=1)[:, np.newaxis]\n",
    "np.set_printoptions(precision=2)\n",
    "print('Normalized confusion matrix')\n",
    "print(cm_normalized)\n",
    "plt.figure()\n",
    "plot_confusion_matrix(cm_normalized, title='Normalized confusion matrix')\n",
    "img = 'normCM.png'\n",
    "plt.tight_layout()"
   ]
  },
  {
   "cell_type": "markdown",
   "metadata": {},
   "source": [
    "### The normalized confusoin matrix shows that the classifier works well within each class (86% accuracy for non-retweeted, and 76% for retweeted tweets)."
   ]
  },
  {
   "cell_type": "code",
   "execution_count": 61,
   "metadata": {
    "collapsed": false,
    "scrolled": true
   },
   "outputs": [
    {
     "name": "stdout",
     "output_type": "stream",
     "text": [
      "             precision    recall  f1-score   support\n",
      "\n",
      "          0       0.99      0.86      0.92    253151\n",
      "          1       0.11      0.76      0.19      5794\n",
      "\n",
      "avg / total       0.97      0.85      0.90    258945\n",
      "\n"
     ]
    }
   ],
   "source": [
    "cls_report = classification_report(y_allTest, y_allPred, labels) \n",
    "print(cls_report)"
   ]
  },
  {
   "cell_type": "markdown",
   "metadata": {},
   "source": [
    "### The precision for the retweeted class is very low, making the F1-score low. Adjusting the threshold for the prediction might improve the performance. "
   ]
  },
  {
   "cell_type": "code",
   "execution_count": 33,
   "metadata": {
    "collapsed": false
   },
   "outputs": [
    {
     "data": {
      "text/plain": [
       "['classifier_healthcare_logit.pkl']"
      ]
     },
     "execution_count": 33,
     "metadata": {},
     "output_type": "execute_result"
    }
   ],
   "source": [
    "joblib.dump(clf, 'classifier_healthcare_logit.pkl', compress = 1)"
   ]
  },
  {
   "cell_type": "markdown",
   "metadata": {},
   "source": [
    "### Pre-process the data and save it for training logistic regression with stochastic gradient descent. "
   ]
  },
  {
   "cell_type": "code",
   "execution_count": 45,
   "metadata": {
    "collapsed": false
   },
   "outputs": [],
   "source": [
    "#df.drop(df.index[bad_tweets],inplace=True)\n",
    "tweets = df['tweet'].values\n",
    "texts = []\n",
    "tokes = []\n",
    "bad_tweets = []\n",
    "\n",
    "for i in range(len(tweets)):\n",
    "    try:\n",
    "        texts.append(tweetCleaner(tweets[i]))\n",
    "        tokes.append(tokenizer_porter(tweets[i]))\n",
    "    except:\n",
    "        print (i)\n",
    "        bad_tweets.append(i)"
   ]
  },
  {
   "cell_type": "markdown",
   "metadata": {},
   "source": [
    "Save the cleaned tweet data to use for training and testing the logistic regression with stochastic gradient descent:"
   ]
  },
  {
   "cell_type": "code",
   "execution_count": 46,
   "metadata": {
    "collapsed": true
   },
   "outputs": [],
   "source": [
    "df['cleanTweet'] = texts\n",
    "df['tokenTweet'] = tokes\n",
    "\n",
    "path = 'rtBinaryClean.csv'\n",
    "dfClean = pd.DataFrame({\"RTbinary\": df.RTbinary * 1, \"cleanTweet\": df.cleanTweet})\n",
    "dfClean.to_csv(path, index=False, header=False)"
   ]
  }
 ],
 "metadata": {
  "kernelspec": {
   "display_name": "Python [insight_env]",
   "language": "python",
   "name": "Python [insight_env]"
  },
  "language_info": {
   "codemirror_mode": {
    "name": "ipython",
    "version": 2
   },
   "file_extension": ".py",
   "mimetype": "text/x-python",
   "name": "python",
   "nbconvert_exporter": "python",
   "pygments_lexer": "ipython2",
   "version": "2.7.12"
  }
 },
 "nbformat": 4,
 "nbformat_minor": 2
}
