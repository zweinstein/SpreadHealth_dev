{
 "cells": [
  {
   "cell_type": "markdown",
   "metadata": {},
   "source": [
    "# Prepare Twitter Data for Classification"
   ]
  },
  {
   "cell_type": "code",
   "execution_count": 2,
   "metadata": {
    "collapsed": true
   },
   "outputs": [],
   "source": [
    "### for file IO:\n",
    "import os\n",
    "import json\n",
    "import sys\n",
    "import sqlite3\n",
    "import pickle as pkl\n",
    "\n",
    "### for data analysis:\n",
    "import numpy as np\n",
    "import pandas as pd\n",
    "\n",
    "### for plotting:\n",
    "import matplotlib\n",
    "import matplotlib.pyplot as plt\n",
    "%matplotlib inline\n",
    "matplotlib.style.use('ggplot')\n",
    "\n",
    "### Others\n",
    "import warnings\n",
    "warnings.filterwarnings('ignore') # suppress warnings\n",
    "from __future__ import print_function # use print as a function like in python3"
   ]
  },
  {
   "cell_type": "markdown",
   "metadata": {},
   "source": [
    "## Load tweets from the database we've created"
   ]
  },
  {
   "cell_type": "code",
   "execution_count": 3,
   "metadata": {
    "collapsed": false,
    "deletable": true,
    "editable": true,
    "scrolled": true
   },
   "outputs": [
    {
     "data": {
      "text/html": [
       "<div>\n",
       "<table border=\"1\" class=\"dataframe\">\n",
       "  <thead>\n",
       "    <tr style=\"text-align: right;\">\n",
       "      <th></th>\n",
       "      <th>tweet</th>\n",
       "      <th>id</th>\n",
       "      <th>screenName</th>\n",
       "      <th>isRT</th>\n",
       "      <th>rtCount</th>\n",
       "      <th>fCount</th>\n",
       "    </tr>\n",
       "  </thead>\n",
       "  <tbody>\n",
       "    <tr>\n",
       "      <th>0</th>\n",
       "      <td>This #job might be a great fit for you: SOUS C...</td>\n",
       "      <td>851413077232803840</td>\n",
       "      <td>CompassJobBoard</td>\n",
       "      <td>0</td>\n",
       "      <td>0</td>\n",
       "      <td>1132</td>\n",
       "    </tr>\n",
       "    <tr>\n",
       "      <th>1</th>\n",
       "      <td>@SpeakerRyan Only if you believe Healthcare is...</td>\n",
       "      <td>851413060078231552</td>\n",
       "      <td>kjoosten56</td>\n",
       "      <td>0</td>\n",
       "      <td>0</td>\n",
       "      <td>15</td>\n",
       "    </tr>\n",
       "    <tr>\n",
       "      <th>2</th>\n",
       "      <td>\"Customer obsessed\" is my new fave way of thin...</td>\n",
       "      <td>851413058488594433</td>\n",
       "      <td>lesliebeard</td>\n",
       "      <td>0</td>\n",
       "      <td>1</td>\n",
       "      <td>231</td>\n",
       "    </tr>\n",
       "    <tr>\n",
       "      <th>3</th>\n",
       "      <td>RT @RAdamsDudleyMD: US healthcare=best? Yes. E...</td>\n",
       "      <td>851413044936802304</td>\n",
       "      <td>christophlane</td>\n",
       "      <td>0</td>\n",
       "      <td>46</td>\n",
       "      <td>2036</td>\n",
       "    </tr>\n",
       "    <tr>\n",
       "      <th>4</th>\n",
       "      <td>PRESS RELEASE » Emerging Healthcare IT Industr...</td>\n",
       "      <td>851413031837990912</td>\n",
       "      <td>OpineHEALTH</td>\n",
       "      <td>0</td>\n",
       "      <td>0</td>\n",
       "      <td>909</td>\n",
       "    </tr>\n",
       "    <tr>\n",
       "      <th>5</th>\n",
       "      <td>RT @JoyAnnReid: When they come back they'll tr...</td>\n",
       "      <td>851413029367549952</td>\n",
       "      <td>Mom0U812</td>\n",
       "      <td>0</td>\n",
       "      <td>3887</td>\n",
       "      <td>62</td>\n",
       "    </tr>\n",
       "    <tr>\n",
       "      <th>6</th>\n",
       "      <td>Healthcare Natural Language Processing (NLP) M...</td>\n",
       "      <td>851413026326679552</td>\n",
       "      <td>IoTBlogs</td>\n",
       "      <td>0</td>\n",
       "      <td>1</td>\n",
       "      <td>16208</td>\n",
       "    </tr>\n",
       "    <tr>\n",
       "      <th>7</th>\n",
       "      <td>RT @JoyAnnReid: When they come back they'll tr...</td>\n",
       "      <td>851413025152262148</td>\n",
       "      <td>jasonphuff</td>\n",
       "      <td>0</td>\n",
       "      <td>3887</td>\n",
       "      <td>162</td>\n",
       "    </tr>\n",
       "    <tr>\n",
       "      <th>8</th>\n",
       "      <td>PRESS RELEASE » Wireless Healthcare Market: Gl...</td>\n",
       "      <td>851413025018048515</td>\n",
       "      <td>OpineHEALTH</td>\n",
       "      <td>0</td>\n",
       "      <td>0</td>\n",
       "      <td>909</td>\n",
       "    </tr>\n",
       "    <tr>\n",
       "      <th>9</th>\n",
       "      <td>पेट दर्द का इलाज चुटकियों में |\\n#onlinecg #he...</td>\n",
       "      <td>851413024959152128</td>\n",
       "      <td>Online_cg</td>\n",
       "      <td>0</td>\n",
       "      <td>0</td>\n",
       "      <td>214</td>\n",
       "    </tr>\n",
       "  </tbody>\n",
       "</table>\n",
       "</div>"
      ],
      "text/plain": [
       "                                               tweet                  id  \\\n",
       "0  This #job might be a great fit for you: SOUS C...  851413077232803840   \n",
       "1  @SpeakerRyan Only if you believe Healthcare is...  851413060078231552   \n",
       "2  \"Customer obsessed\" is my new fave way of thin...  851413058488594433   \n",
       "3  RT @RAdamsDudleyMD: US healthcare=best? Yes. E...  851413044936802304   \n",
       "4  PRESS RELEASE » Emerging Healthcare IT Industr...  851413031837990912   \n",
       "5  RT @JoyAnnReid: When they come back they'll tr...  851413029367549952   \n",
       "6  Healthcare Natural Language Processing (NLP) M...  851413026326679552   \n",
       "7  RT @JoyAnnReid: When they come back they'll tr...  851413025152262148   \n",
       "8  PRESS RELEASE » Wireless Healthcare Market: Gl...  851413025018048515   \n",
       "9  पेट दर्द का इलाज चुटकियों में |\\n#onlinecg #he...  851413024959152128   \n",
       "\n",
       "        screenName  isRT  rtCount  fCount  \n",
       "0  CompassJobBoard     0        0    1132  \n",
       "1       kjoosten56     0        0      15  \n",
       "2      lesliebeard     0        1     231  \n",
       "3    christophlane     0       46    2036  \n",
       "4      OpineHEALTH     0        0     909  \n",
       "5         Mom0U812     0     3887      62  \n",
       "6         IoTBlogs     0        1   16208  \n",
       "7       jasonphuff     0     3887     162  \n",
       "8      OpineHEALTH     0        0     909  \n",
       "9        Online_cg     0        0     214  "
      ]
     },
     "execution_count": 3,
     "metadata": {},
     "output_type": "execute_result"
    }
   ],
   "source": [
    "conn = sqlite3.connect('health.db')\n",
    "c = conn.cursor()\n",
    "test_sql = pd.read_sql_query(\"Select * from tweets\",conn)\n",
    "conn.close()\n",
    "test_sql.head(10)"
   ]
  },
  {
   "cell_type": "markdown",
   "metadata": {},
   "source": [
    "# Exploratory Data Analysis"
   ]
  },
  {
   "cell_type": "code",
   "execution_count": 4,
   "metadata": {
    "collapsed": false
   },
   "outputs": [
    {
     "name": "stdout",
     "output_type": "stream",
     "text": [
      "Total number of tweets = 634588\n"
     ]
    }
   ],
   "source": [
    "print (\"Total number of tweets = {}\".format(test_sql.shape[0]))"
   ]
  },
  {
   "cell_type": "markdown",
   "metadata": {},
   "source": [
    "Clean up the data we'll use for training and testing our prediction algorithms:"
   ]
  },
  {
   "cell_type": "code",
   "execution_count": 5,
   "metadata": {
    "collapsed": false,
    "deletable": true,
    "editable": true
   },
   "outputs": [
    {
     "name": "stdout",
     "output_type": "stream",
     "text": [
      "Number of tweets after removing duplicates = 308168\n"
     ]
    }
   ],
   "source": [
    "# Remove duplicates based on both id and text of tweets\n",
    "test_sql.drop_duplicates(['tweet'],inplace=True)\n",
    "test_sql.drop_duplicates('id',inplace=True)\n",
    "print (\"Number of tweets after removing duplicates = {}\".format(test_sql.shape[0]))"
   ]
  },
  {
   "cell_type": "code",
   "execution_count": 6,
   "metadata": {
    "collapsed": false
   },
   "outputs": [
    {
     "name": "stdout",
     "output_type": "stream",
     "text": [
      "Tweets with zero followers = 1195\n"
     ]
    }
   ],
   "source": [
    "# Less than 1% of all collected tweets were from users with zero followers\n",
    "print (\"Tweets with zero followers = {}\".format(sum(test_sql['fCount']==0)))"
   ]
  },
  {
   "cell_type": "code",
   "execution_count": 7,
   "metadata": {
    "collapsed": false
   },
   "outputs": [
    {
     "name": "stdout",
     "output_type": "stream",
     "text": [
      "Total number of tweets remaining = 306973\n"
     ]
    }
   ],
   "source": [
    "# Remove tweets with zero followers, since it's just a small fraction of total number of tweets.\n",
    "test_sql_nof = test_sql[test_sql['fCount']>0]\n",
    "print (\"Total number of tweets remaining = {}\".format(test_sql_nof.shape[0]))"
   ]
  },
  {
   "cell_type": "markdown",
   "metadata": {},
   "source": [
    "Tweets from users who already have a larger number of followers are expected to be retweeted more often. For this project, we want to focus on the content of tweets, not the number of followers. Thus, I normalized the retweet count by the number of followers to get a score, for classifying tweets as 'retweetable' or not."
   ]
  },
  {
   "cell_type": "code",
   "execution_count": 8,
   "metadata": {
    "collapsed": false,
    "scrolled": true
   },
   "outputs": [
    {
     "data": {
      "text/html": [
       "<div>\n",
       "<table border=\"1\" class=\"dataframe\">\n",
       "  <thead>\n",
       "    <tr style=\"text-align: right;\">\n",
       "      <th></th>\n",
       "      <th>tweet</th>\n",
       "      <th>id</th>\n",
       "      <th>screenName</th>\n",
       "      <th>isRT</th>\n",
       "      <th>rtCount</th>\n",
       "      <th>fCount</th>\n",
       "      <th>pctRT</th>\n",
       "    </tr>\n",
       "  </thead>\n",
       "  <tbody>\n",
       "    <tr>\n",
       "      <th>0</th>\n",
       "      <td>This #job might be a great fit for you: SOUS C...</td>\n",
       "      <td>851413077232803840</td>\n",
       "      <td>CompassJobBoard</td>\n",
       "      <td>0</td>\n",
       "      <td>0</td>\n",
       "      <td>1132</td>\n",
       "      <td>0.000000</td>\n",
       "    </tr>\n",
       "    <tr>\n",
       "      <th>1</th>\n",
       "      <td>@SpeakerRyan Only if you believe Healthcare is...</td>\n",
       "      <td>851413060078231552</td>\n",
       "      <td>kjoosten56</td>\n",
       "      <td>0</td>\n",
       "      <td>0</td>\n",
       "      <td>15</td>\n",
       "      <td>0.000000</td>\n",
       "    </tr>\n",
       "    <tr>\n",
       "      <th>2</th>\n",
       "      <td>\"Customer obsessed\" is my new fave way of thin...</td>\n",
       "      <td>851413058488594433</td>\n",
       "      <td>lesliebeard</td>\n",
       "      <td>0</td>\n",
       "      <td>1</td>\n",
       "      <td>231</td>\n",
       "      <td>0.004329</td>\n",
       "    </tr>\n",
       "    <tr>\n",
       "      <th>3</th>\n",
       "      <td>RT @RAdamsDudleyMD: US healthcare=best? Yes. E...</td>\n",
       "      <td>851413044936802304</td>\n",
       "      <td>christophlane</td>\n",
       "      <td>0</td>\n",
       "      <td>46</td>\n",
       "      <td>2036</td>\n",
       "      <td>0.022593</td>\n",
       "    </tr>\n",
       "    <tr>\n",
       "      <th>4</th>\n",
       "      <td>PRESS RELEASE » Emerging Healthcare IT Industr...</td>\n",
       "      <td>851413031837990912</td>\n",
       "      <td>OpineHEALTH</td>\n",
       "      <td>0</td>\n",
       "      <td>0</td>\n",
       "      <td>909</td>\n",
       "      <td>0.000000</td>\n",
       "    </tr>\n",
       "  </tbody>\n",
       "</table>\n",
       "</div>"
      ],
      "text/plain": [
       "                                               tweet                  id  \\\n",
       "0  This #job might be a great fit for you: SOUS C...  851413077232803840   \n",
       "1  @SpeakerRyan Only if you believe Healthcare is...  851413060078231552   \n",
       "2  \"Customer obsessed\" is my new fave way of thin...  851413058488594433   \n",
       "3  RT @RAdamsDudleyMD: US healthcare=best? Yes. E...  851413044936802304   \n",
       "4  PRESS RELEASE » Emerging Healthcare IT Industr...  851413031837990912   \n",
       "\n",
       "        screenName  isRT  rtCount  fCount     pctRT  \n",
       "0  CompassJobBoard     0        0    1132  0.000000  \n",
       "1       kjoosten56     0        0      15  0.000000  \n",
       "2      lesliebeard     0        1     231  0.004329  \n",
       "3    christophlane     0       46    2036  0.022593  \n",
       "4      OpineHEALTH     0        0     909  0.000000  "
      ]
     },
     "execution_count": 8,
     "metadata": {},
     "output_type": "execute_result"
    }
   ],
   "source": [
    "# Create a new column (pctRT) to store rtCount/fCount\n",
    "test_sql_nof['pctRT'] = test_sql_nof['rtCount']/test_sql_nof['fCount']\n",
    "test_sql_nof.head(5)"
   ]
  },
  {
   "cell_type": "markdown",
   "metadata": {},
   "source": [
    "Take a look at tweets with pctRT larger than (or equal to) 1. These are all retweets (indicated by 'RT' at the beginning of the tweets) or responses to an original tweet:"
   ]
  },
  {
   "cell_type": "code",
   "execution_count": 9,
   "metadata": {
    "collapsed": false
   },
   "outputs": [
    {
     "data": {
      "text/html": [
       "<div>\n",
       "<table border=\"1\" class=\"dataframe\">\n",
       "  <thead>\n",
       "    <tr style=\"text-align: right;\">\n",
       "      <th></th>\n",
       "      <th>tweet</th>\n",
       "      <th>id</th>\n",
       "      <th>screenName</th>\n",
       "      <th>isRT</th>\n",
       "      <th>rtCount</th>\n",
       "      <th>fCount</th>\n",
       "      <th>pctRT</th>\n",
       "    </tr>\n",
       "  </thead>\n",
       "  <tbody>\n",
       "    <tr>\n",
       "      <th>5</th>\n",
       "      <td>RT @JoyAnnReid: When they come back they'll tr...</td>\n",
       "      <td>851413029367549952</td>\n",
       "      <td>Mom0U812</td>\n",
       "      <td>0</td>\n",
       "      <td>3887</td>\n",
       "      <td>62</td>\n",
       "      <td>62.693548</td>\n",
       "    </tr>\n",
       "    <tr>\n",
       "      <th>21</th>\n",
       "      <td>RT @JillDLawrence: Tennessee business owner: D...</td>\n",
       "      <td>851412992096964608</td>\n",
       "      <td>PattyLee3</td>\n",
       "      <td>0</td>\n",
       "      <td>41</td>\n",
       "      <td>18</td>\n",
       "      <td>2.277778</td>\n",
       "    </tr>\n",
       "    <tr>\n",
       "      <th>39</th>\n",
       "      <td>RT @JoyAnnReid: Puzder's argument: let us pay ...</td>\n",
       "      <td>851412869086359553</td>\n",
       "      <td>JessInTexas1</td>\n",
       "      <td>0</td>\n",
       "      <td>475</td>\n",
       "      <td>47</td>\n",
       "      <td>10.106383</td>\n",
       "    </tr>\n",
       "    <tr>\n",
       "      <th>45</th>\n",
       "      <td>RT @SAYoungLion: #ChrisHani died fighting for ...</td>\n",
       "      <td>851412836010033152</td>\n",
       "      <td>LeratoMcCow</td>\n",
       "      <td>0</td>\n",
       "      <td>712</td>\n",
       "      <td>180</td>\n",
       "      <td>3.955556</td>\n",
       "    </tr>\n",
       "    <tr>\n",
       "      <th>152</th>\n",
       "      <td>RT @blackbookpolls: Download 2017 Black Book H...</td>\n",
       "      <td>851412210949668864</td>\n",
       "      <td>Yaussi34</td>\n",
       "      <td>0</td>\n",
       "      <td>49</td>\n",
       "      <td>40</td>\n",
       "      <td>1.225000</td>\n",
       "    </tr>\n",
       "  </tbody>\n",
       "</table>\n",
       "</div>"
      ],
      "text/plain": [
       "                                                 tweet                  id  \\\n",
       "5    RT @JoyAnnReid: When they come back they'll tr...  851413029367549952   \n",
       "21   RT @JillDLawrence: Tennessee business owner: D...  851412992096964608   \n",
       "39   RT @JoyAnnReid: Puzder's argument: let us pay ...  851412869086359553   \n",
       "45   RT @SAYoungLion: #ChrisHani died fighting for ...  851412836010033152   \n",
       "152  RT @blackbookpolls: Download 2017 Black Book H...  851412210949668864   \n",
       "\n",
       "       screenName  isRT  rtCount  fCount      pctRT  \n",
       "5        Mom0U812     0     3887      62  62.693548  \n",
       "21      PattyLee3     0       41      18   2.277778  \n",
       "39   JessInTexas1     0      475      47  10.106383  \n",
       "45    LeratoMcCow     0      712     180   3.955556  \n",
       "152      Yaussi34     0       49      40   1.225000  "
      ]
     },
     "execution_count": 9,
     "metadata": {},
     "output_type": "execute_result"
    }
   ],
   "source": [
    "test_sql_nof[test_sql_nof['pctRT']>=1].head()"
   ]
  },
  {
   "cell_type": "code",
   "execution_count": 10,
   "metadata": {
    "collapsed": false,
    "scrolled": true
   },
   "outputs": [
    {
     "name": "stdout",
     "output_type": "stream",
     "text": [
      "Tweets remaining = 305305\n"
     ]
    }
   ],
   "source": [
    "# Only keep tweets where pctRT < 1 \n",
    "test_sql_final = test_sql_nof[test_sql_nof['pctRT']<1]\n",
    "print(\"Tweets remaining = {}\".format((test_sql_final.shape[0])))"
   ]
  },
  {
   "cell_type": "markdown",
   "metadata": {},
   "source": [
    "Look at the distribution of tweets based on how often they were retweeted. -- Most of them were not retweeted."
   ]
  },
  {
   "cell_type": "code",
   "execution_count": 11,
   "metadata": {
    "collapsed": false
   },
   "outputs": [
    {
     "data": {
      "image/png": "[encoded data removed]",
      "text/plain": [
       "<matplotlib.figure.Figure at 0x7f9e78487390>"
      ]
     },
     "metadata": {},
     "output_type": "display_data"
    }
   ],
   "source": [
    "fig, ax = plt.subplots()\n",
    "test_sql_final.pctRT.hist(ax=ax, bins=100, alpha=0.5, range=[0, 1])\n",
    "#ax.set_xscale('log')\n",
    "plt.xlabel('Retweet Freqency')\n",
    "plt.ylabel('Probability')\n",
    "plt.title('Histogram of Tweets')\n",
    "\n",
    "# Save the plot\n",
    "img = 'distribution.png'\n",
    "plt.tight_layout()\n",
    "plt.savefig(img, format='png',  dpi=300)"
   ]
  },
  {
   "cell_type": "code",
   "execution_count": 12,
   "metadata": {
    "collapsed": false
   },
   "outputs": [
    {
     "data": {
      "image/png": "[encoded data removed]",
      "text/plain": [
       "<matplotlib.figure.Figure at 0x7f9e7cb5d990>"
      ]
     },
     "metadata": {},
     "output_type": "display_data"
    }
   ],
   "source": [
    "fig, ax = plt.subplots()\n",
    "test_sql_final.pctRT.hist(ax=ax, bins=100, alpha=0.5, range=[0.001, 0.05])\n",
    "#ax.set_xscale('log')\n",
    "img = 'distribution_zoom.png'\n",
    "plt.tight_layout()\n",
    "plt.savefig(img, format='png',  dpi=300)"
   ]
  },
  {
   "cell_type": "markdown",
   "metadata": {},
   "source": [
    "# Define Classification Criterion"
   ]
  },
  {
   "cell_type": "markdown",
   "metadata": {},
   "source": [
    "Construct categorical tweets:\n",
    "-- 0: Not Retweeted; \n",
    "-- 1: Retweeted \n",
    "with a threshold (0.5%), i.e., classifying a tweet as 'retweetable' if pctRT is above threshold (set to 0.005). "
   ]
  },
  {
   "cell_type": "code",
   "execution_count": 18,
   "metadata": {
    "collapsed": false,
    "scrolled": true
   },
   "outputs": [],
   "source": [
    "# Store the classification label in a new column called 'RTBinary'.\n",
    "test_sql_final['RTBinary'] = (test_sql_final['pctRT']>0.005)"
   ]
  },
  {
   "cell_type": "code",
   "execution_count": 19,
   "metadata": {
    "collapsed": false,
    "scrolled": false
   },
   "outputs": [
    {
     "data": {
      "text/html": [
       "<div>\n",
       "<table border=\"1\" class=\"dataframe\">\n",
       "  <thead>\n",
       "    <tr style=\"text-align: right;\">\n",
       "      <th></th>\n",
       "      <th>tweet</th>\n",
       "      <th>id</th>\n",
       "      <th>screenName</th>\n",
       "      <th>isRT</th>\n",
       "      <th>rtCount</th>\n",
       "      <th>fCount</th>\n",
       "      <th>pctRT</th>\n",
       "      <th>RTBinary</th>\n",
       "    </tr>\n",
       "  </thead>\n",
       "  <tbody>\n",
       "    <tr>\n",
       "      <th>0</th>\n",
       "      <td>This #job might be a great fit for you: SOUS C...</td>\n",
       "      <td>851413077232803840</td>\n",
       "      <td>CompassJobBoard</td>\n",
       "      <td>0</td>\n",
       "      <td>0</td>\n",
       "      <td>1132</td>\n",
       "      <td>0.000000</td>\n",
       "      <td>False</td>\n",
       "    </tr>\n",
       "    <tr>\n",
       "      <th>1</th>\n",
       "      <td>@SpeakerRyan Only if you believe Healthcare is...</td>\n",
       "      <td>851413060078231552</td>\n",
       "      <td>kjoosten56</td>\n",
       "      <td>0</td>\n",
       "      <td>0</td>\n",
       "      <td>15</td>\n",
       "      <td>0.000000</td>\n",
       "      <td>False</td>\n",
       "    </tr>\n",
       "    <tr>\n",
       "      <th>2</th>\n",
       "      <td>\"Customer obsessed\" is my new fave way of thin...</td>\n",
       "      <td>851413058488594433</td>\n",
       "      <td>lesliebeard</td>\n",
       "      <td>0</td>\n",
       "      <td>1</td>\n",
       "      <td>231</td>\n",
       "      <td>0.004329</td>\n",
       "      <td>False</td>\n",
       "    </tr>\n",
       "    <tr>\n",
       "      <th>3</th>\n",
       "      <td>RT @RAdamsDudleyMD: US healthcare=best? Yes. E...</td>\n",
       "      <td>851413044936802304</td>\n",
       "      <td>christophlane</td>\n",
       "      <td>0</td>\n",
       "      <td>46</td>\n",
       "      <td>2036</td>\n",
       "      <td>0.022593</td>\n",
       "      <td>True</td>\n",
       "    </tr>\n",
       "    <tr>\n",
       "      <th>4</th>\n",
       "      <td>PRESS RELEASE » Emerging Healthcare IT Industr...</td>\n",
       "      <td>851413031837990912</td>\n",
       "      <td>OpineHEALTH</td>\n",
       "      <td>0</td>\n",
       "      <td>0</td>\n",
       "      <td>909</td>\n",
       "      <td>0.000000</td>\n",
       "      <td>False</td>\n",
       "    </tr>\n",
       "  </tbody>\n",
       "</table>\n",
       "</div>"
      ],
      "text/plain": [
       "                                               tweet                  id  \\\n",
       "0  This #job might be a great fit for you: SOUS C...  851413077232803840   \n",
       "1  @SpeakerRyan Only if you believe Healthcare is...  851413060078231552   \n",
       "2  \"Customer obsessed\" is my new fave way of thin...  851413058488594433   \n",
       "3  RT @RAdamsDudleyMD: US healthcare=best? Yes. E...  851413044936802304   \n",
       "4  PRESS RELEASE » Emerging Healthcare IT Industr...  851413031837990912   \n",
       "\n",
       "        screenName  isRT  rtCount  fCount     pctRT RTBinary  \n",
       "0  CompassJobBoard     0        0    1132  0.000000    False  \n",
       "1       kjoosten56     0        0      15  0.000000    False  \n",
       "2      lesliebeard     0        1     231  0.004329    False  \n",
       "3    christophlane     0       46    2036  0.022593     True  \n",
       "4      OpineHEALTH     0        0     909  0.000000    False  "
      ]
     },
     "execution_count": 19,
     "metadata": {},
     "output_type": "execute_result"
    }
   ],
   "source": [
    "test_sql_final.head()"
   ]
  },
  {
   "cell_type": "markdown",
   "metadata": {},
   "source": [
    "Notice the class imbalance. About 9.5% tweets that are classified as 'retweetable':"
   ]
  },
  {
   "cell_type": "code",
   "execution_count": 20,
   "metadata": {
    "collapsed": false
   },
   "outputs": [
    {
     "data": {
      "text/plain": [
       "0.094905094905094911"
      ]
     },
     "execution_count": 20,
     "metadata": {},
     "output_type": "execute_result"
    }
   ],
   "source": [
    "np.mean(test_sql_final['RTBinary'])"
   ]
  },
  {
   "cell_type": "code",
   "execution_count": 21,
   "metadata": {
    "collapsed": false
   },
   "outputs": [
    {
     "data": {
      "text/html": [
       "<div>\n",
       "<table border=\"1\" class=\"dataframe\">\n",
       "  <thead>\n",
       "    <tr style=\"text-align: right;\">\n",
       "      <th></th>\n",
       "      <th>RTbinary</th>\n",
       "      <th>tweet</th>\n",
       "    </tr>\n",
       "  </thead>\n",
       "  <tbody>\n",
       "    <tr>\n",
       "      <th>0</th>\n",
       "      <td>False</td>\n",
       "      <td>This #job might be a great fit for you: SOUS C...</td>\n",
       "    </tr>\n",
       "    <tr>\n",
       "      <th>1</th>\n",
       "      <td>False</td>\n",
       "      <td>@SpeakerRyan Only if you believe Healthcare is...</td>\n",
       "    </tr>\n",
       "    <tr>\n",
       "      <th>2</th>\n",
       "      <td>False</td>\n",
       "      <td>\"Customer obsessed\" is my new fave way of thin...</td>\n",
       "    </tr>\n",
       "    <tr>\n",
       "      <th>3</th>\n",
       "      <td>True</td>\n",
       "      <td>RT @RAdamsDudleyMD: US healthcare=best? Yes. E...</td>\n",
       "    </tr>\n",
       "    <tr>\n",
       "      <th>4</th>\n",
       "      <td>False</td>\n",
       "      <td>PRESS RELEASE » Emerging Healthcare IT Industr...</td>\n",
       "    </tr>\n",
       "  </tbody>\n",
       "</table>\n",
       "</div>"
      ],
      "text/plain": [
       "  RTbinary                                              tweet\n",
       "0    False  This #job might be a great fit for you: SOUS C...\n",
       "1    False  @SpeakerRyan Only if you believe Healthcare is...\n",
       "2    False  \"Customer obsessed\" is my new fave way of thin...\n",
       "3     True  RT @RAdamsDudleyMD: US healthcare=best? Yes. E...\n",
       "4    False  PRESS RELEASE » Emerging Healthcare IT Industr..."
      ]
     },
     "execution_count": 21,
     "metadata": {},
     "output_type": "execute_result"
    }
   ],
   "source": [
    "df = pd.DataFrame({\"tweet\": test_sql_final.tweet, \"RTbinary\": test_sql_final.RTBinary })\n",
    "df.head()"
   ]
  },
  {
   "cell_type": "markdown",
   "metadata": {},
   "source": [
    "Save the data frame as a pickle file so that we can load it in later python sessions to try different classification algorithms."
   ]
  },
  {
   "cell_type": "code",
   "execution_count": 17,
   "metadata": {
    "collapsed": true
   },
   "outputs": [],
   "source": [
    "df.to_pickle('healthcare_RTbinary_pandasDF.pkl')"
   ]
  }
 ],
 "metadata": {
  "kernelspec": {
   "display_name": "Python [insight_env]",
   "language": "python",
   "name": "Python [insight_env]"
  },
  "language_info": {
   "codemirror_mode": {
    "name": "ipython",
    "version": 2
   },
   "file_extension": ".py",
   "mimetype": "text/x-python",
   "name": "python",
   "nbconvert_exporter": "python",
   "pygments_lexer": "ipython2",
   "version": "2.7.12"
  }
 },
 "nbformat": 4,
 "nbformat_minor": 2
}
