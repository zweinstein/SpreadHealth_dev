{
 "cells": [
  {
   "cell_type": "code",
   "execution_count": 1,
   "metadata": {
    "collapsed": false,
    "deletable": true,
    "editable": true
   },
   "outputs": [],
   "source": [
    "### for file IO:\n",
    "import os\n",
    "work_dir = os.getcwd()\n",
    "\n",
    "import codecs\n",
    "from sklearn.externals import joblib # for pickling the pipeline\n",
    "\n",
    "### for data analysis:\n",
    "import numpy as np\n",
    "import pandas as pd\n",
    "\n",
    "### for text cleaning & preprocessing:\n",
    "import re\n",
    "# import nltk\n",
    "# nltk.download('stopwords')\n",
    "from nltk.corpus import stopwords\n",
    "from nltk.stem.porter import PorterStemmer\n",
    "\n",
    "### for plotting:\n",
    "import matplotlib\n",
    "import matplotlib.pyplot as plt\n",
    "%matplotlib inline\n",
    "matplotlib.style.use('ggplot')\n",
    "\n",
    "### for vectorizing text & training ML algorithms:\n",
    "from sklearn.model_selection import GridSearchCV, train_test_split\n",
    "from sklearn.pipeline import Pipeline\n",
    "from sklearn.feature_extraction.text import TfidfVectorizer\n",
    "from sklearn.ensemble import RandomForestClassifier\n",
    "from sklearn.metrics import confusion_matrix, classification_report\n",
    "from sklearn.externals import joblib # for pickling the pipeline\n",
    "\n",
    "from __future__ import print_function # use print as a function like in python3"
   ]
  },
  {
   "cell_type": "code",
   "execution_count": 4,
   "metadata": {
    "collapsed": true,
    "editable": true
   },
   "outputs": [],
   "source": [
    "stop = stopwords.words(\"english\")\n",
    "\n",
    "def rmURL(tweet):\n",
    "    #Convert to lower case\n",
    "    tweet = tweet.lower()\n",
    "    #Convert www.* or https?://* to URL\n",
    "    tweet = re.sub('((www\\.[^\\s]+)|(https?://[^\\s]+))','URL',tweet)\n",
    "    return tweet\n",
    "\n",
    "def rmMARK(tweet):\n",
    "    tweet = rmURL(tweet)\n",
    "    #Convert @username to ATusername\n",
    "    tweet = re.sub('@','AT',tweet)\n",
    "    #Replace # with HASH_TAG\n",
    "    tweet = re.sub('#', 'HASH', tweet)\n",
    "    #Temporarily store emoticons\n",
    "    emoticons = re.findall('(?::|;|=)(?:-)?(?:\\)|\\(|D|P)', tweet)\n",
    "    #Remove all non-word charactersand add the emoticons to \n",
    "    # the end of the processed document string\n",
    "    # remove emoticon nose to be consistent\n",
    "    tweet = re.sub('[\\W]+', ' ', tweet) + ' ' + ' '.join(emoticons).replace('-', '')\n",
    "    #trim\n",
    "    tweet = tweet.strip('\\'\"')\n",
    "    return tweet\n",
    "\n",
    "def tweetCleaner(tweet):\n",
    "    tweet = rmURL(tweet)\n",
    "    #Convert @username to AT_USER\n",
    "    tweet = re.sub('@[^\\s]+','AT_USER',tweet)\n",
    "    #Replace # with HASH_TAG\n",
    "    tweet = re.sub('#', 'HASH_TAG ', tweet)\n",
    "    #Temporarily store emoticons\n",
    "    emoticons = re.findall('(?::|;|=)(?:-)?(?:\\)|\\(|D|P)', tweet)\n",
    "    #Remove all non-word charactersand add the emoticons to \n",
    "    # the end of the processed document string\n",
    "    # remove emoticon nose to be consistent\n",
    "    tweet = re.sub('[\\W]+', ' ', tweet) + ' ' + ' '.join(emoticons).replace('-', '')\n",
    "    #trim\n",
    "    tweet = tweet.strip('\\'\"')\n",
    "    return tweet\n",
    "\n",
    "def rmURLtokenizer(tweet):\n",
    "    tweet = rmURL(tweet)\n",
    "    tw = [w for w in tweet.split() if w not in stop]\n",
    "    return tw\n",
    "\n",
    "def rmMARKtokenizer(tweet):\n",
    "    tweet = rmMARK(tweet)\n",
    "    tw = [w for w in tweet.split() if w not in stop]\n",
    "    return tw\n",
    "\n",
    "def tweetTokenizer(tweet):\n",
    "    tweet = tweetCleaner(tweet)\n",
    "    tw = [w for w in tweet.split() if w not in stop]\n",
    "    return tw\n",
    "\n",
    "porter = PorterStemmer()\n",
    "def rmURL_porter(text):\n",
    "    return [porter.stem(word) for word in rmURLtokenizer(text)]\n",
    "\n",
    "def rmMARK_porter(text):\n",
    "    return [porter.stem(word) for word in rmMARKtokenizer(text)]\n",
    "\n",
    "def tokenizer_porter(text):\n",
    "    return [porter.stem(word) for word in tweetTokenizer(text)]"
   ]
  },
  {
   "cell_type": "markdown",
   "metadata": {},
   "source": [
    "## Load in the pickled data frame:"
   ]
  },
  {
   "cell_type": "code",
   "execution_count": 5,
   "metadata": {
    "collapsed": true
   },
   "outputs": [],
   "source": [
    "df = pd.read_pickle('healthcare_RTbinary_pandasDF.pkl')"
   ]
  },
  {
   "cell_type": "code",
   "execution_count": 6,
   "metadata": {
    "collapsed": false,
    "deletable": true,
    "editable": true
   },
   "outputs": [],
   "source": [
    "pos = df.ix[df['RTbinary'] == 1]\n",
    "\n",
    "neg = df.ix[df['RTbinary'] == 0]"
   ]
  },
  {
   "cell_type": "code",
   "execution_count": 7,
   "metadata": {
    "collapsed": true,
    "deletable": true,
    "editable": true
   },
   "outputs": [],
   "source": [
    "negtrain = neg.sample(n = pos.shape[0],random_state=0)\n",
    "negtest = neg.drop(negtrain.index)"
   ]
  },
  {
   "cell_type": "code",
   "execution_count": 8,
   "metadata": {
    "collapsed": false,
    "deletable": true,
    "editable": true
   },
   "outputs": [],
   "source": [
    "df = pos.append(negtrain)"
   ]
  },
  {
   "cell_type": "code",
   "execution_count": 9,
   "metadata": {
    "collapsed": false,
    "deletable": true,
    "editable": true
   },
   "outputs": [],
   "source": [
    "np.random.seed(0)\n",
    "df = df.reindex(np.random.permutation(df.index))"
   ]
  },
  {
   "cell_type": "code",
   "execution_count": 10,
   "metadata": {
    "collapsed": false,
    "deletable": true,
    "editable": true
   },
   "outputs": [
    {
     "data": {
      "text/html": [
       "<div>\n",
       "<table border=\"1\" class=\"dataframe\">\n",
       "  <thead>\n",
       "    <tr style=\"text-align: right;\">\n",
       "      <th></th>\n",
       "      <th>RTbinary</th>\n",
       "      <th>tweet</th>\n",
       "    </tr>\n",
       "  </thead>\n",
       "  <tbody>\n",
       "    <tr>\n",
       "      <th>608892</th>\n",
       "      <td>True</td>\n",
       "      <td>RT @IESHealthcare: Pursue a career in emergenc...</td>\n",
       "    </tr>\n",
       "    <tr>\n",
       "      <th>33185</th>\n",
       "      <td>False</td>\n",
       "      <td>Want to work in #Jacksonville, FL? View our la...</td>\n",
       "    </tr>\n",
       "    <tr>\n",
       "      <th>358323</th>\n",
       "      <td>False</td>\n",
       "      <td>\"Earn attractive honorarium by taking medical ...</td>\n",
       "    </tr>\n",
       "    <tr>\n",
       "      <th>373739</th>\n",
       "      <td>True</td>\n",
       "      <td>RT @carrollu: Welcome to @Donn_DimondPT '98, o...</td>\n",
       "    </tr>\n",
       "    <tr>\n",
       "      <th>348749</th>\n",
       "      <td>True</td>\n",
       "      <td>I don't want the NHS to spend its time on immi...</td>\n",
       "    </tr>\n",
       "  </tbody>\n",
       "</table>\n",
       "</div>"
      ],
      "text/plain": [
       "       RTbinary                                              tweet\n",
       "608892     True  RT @IESHealthcare: Pursue a career in emergenc...\n",
       "33185     False  Want to work in #Jacksonville, FL? View our la...\n",
       "358323    False  \"Earn attractive honorarium by taking medical ...\n",
       "373739     True  RT @carrollu: Welcome to @Donn_DimondPT '98, o...\n",
       "348749     True  I don't want the NHS to spend its time on immi..."
      ]
     },
     "execution_count": 10,
     "metadata": {},
     "output_type": "execute_result"
    }
   ],
   "source": [
    "df.head()"
   ]
  },
  {
   "cell_type": "code",
   "execution_count": 11,
   "metadata": {
    "collapsed": true,
    "deletable": true,
    "editable": true
   },
   "outputs": [],
   "source": [
    "X_train, X_test, y_train, y_test = train_test_split(df.tweet.values, df.RTbinary.values,\n",
    "                                                   train_size = 0.8, random_state = 0)\n"
   ]
  },
  {
   "cell_type": "code",
   "execution_count": 51,
   "metadata": {
    "collapsed": false,
    "deletable": true,
    "editable": true
   },
   "outputs": [
    {
     "name": "stdout",
     "output_type": "stream",
     "text": [
      "Fitting 5 folds for each of 288 candidates, totalling 1440 fits\n"
     ]
    },
    {
     "name": "stderr",
     "output_type": "stream",
     "text": [
      "[Parallel(n_jobs=-1)]: Done  42 tasks      | elapsed:  7.8min\n",
      "[Parallel(n_jobs=-1)]: Done 192 tasks      | elapsed: 43.6min\n",
      "[Parallel(n_jobs=-1)]: Done 442 tasks      | elapsed: 103.0min\n",
      "[Parallel(n_jobs=-1)]: Done 792 tasks      | elapsed: 183.4min\n",
      "[Parallel(n_jobs=-1)]: Done 1242 tasks      | elapsed: 289.0min\n",
      "[Parallel(n_jobs=-1)]: Done 1440 out of 1440 | elapsed: 337.2min finished\n"
     ]
    },
    {
     "data": {
      "text/plain": [
       "GridSearchCV(cv=5, error_score='raise',\n",
       "       estimator=Pipeline(steps=[('vect', TfidfVectorizer(analyzer='word', binary=False, decode_error='strict',\n",
       "        dtype=<class 'numpy.int64'>, encoding='utf-8', input='content',\n",
       "        lowercase=False, max_df=1.0, max_features=None, min_df=1,\n",
       "        ngram_range=(1, 1), norm='l2', preprocessor=None, smooth_idf=True,\n",
       " ...estimators=10, n_jobs=1, oob_score=False, random_state=0,\n",
       "            verbose=0, warm_start=False))]),\n",
       "       fit_params={}, iid=True, n_jobs=-1,\n",
       "       param_grid=[{'clf__oob_score': [False], 'clf__min_samples_leaf': [30, 300, 3000], 'vect__tokenizer': [<function rmURLtokenizer at 0x10ad8dea0>, <function rmMARKtokenizer at 0x149875d08>, <function tweetTokenizer at 0x149904f28>, <function rmURL_porter at 0x149904ea0>, <function rmMARK_porter at 0x14...sn', 'ma', 'mightn', 'mustn', 'needn', 'shan', 'shouldn', 'wasn', 'weren', 'won', 'wouldn'], None]}],\n",
       "       pre_dispatch='2*n_jobs', refit=True, return_train_score=True,\n",
       "       scoring='accuracy', verbose=1)"
      ]
     },
     "execution_count": 51,
     "metadata": {},
     "output_type": "execute_result"
    }
   ],
   "source": [
    "tfidf = TfidfVectorizer(strip_accents=None, lowercase=False, preprocessor=None)\n",
    "\n",
    "param_grid = [\n",
    "    {'vect__ngram_range': [(1,2),(1,3)],\n",
    "     'vect__stop_words': [stop, None],\n",
    "     'vect__tokenizer': [rmURLtokenizer, rmMARKtokenizer, tweetTokenizer, \n",
    "                         rmURL_porter, rmMARK_porter, tokenizer_porter],\n",
    "     'clf__n_estimators': [100, 200],\n",
    "     'clf__min_samples_leaf': [30, 300, 3000],\n",
    "     'clf__oob_score':[False]},\n",
    "    {'vect__ngram_range': [(1,2),(1,3)],\n",
    "     'vect__stop_words': [stop, None],\n",
    "     'vect__tokenizer': [rmURLtokenizer, rmMARKtokenizer, tweetTokenizer, \n",
    "                         rmURL_porter, rmMARK_porter, tokenizer_porter],\n",
    "     'vect__use_idf':[False],\n",
    "     'vect__norm':[None],\n",
    "     'clf__n_estimators': [100, 200],\n",
    "     'clf__min_samples_leaf': [30, 300, 3000],\n",
    "     'clf__oob_score':[False]}\n",
    "]\n",
    "\n",
    "lr_tfidf = Pipeline([ ('vect', tfidf), ('clf', RandomForestClassifier(random_state=0)) ])\n",
    "\n",
    "gs_lr_tfidf = GridSearchCV(lr_tfidf, param_grid, scoring='accuracy',\n",
    "                           cv=5, verbose=1, n_jobs=-1)\n",
    "\n",
    "gs_lr_tfidf.fit(X_train, y_train)"
   ]
  },
  {
   "cell_type": "markdown",
   "metadata": {
    "deletable": true,
    "editable": true
   },
   "source": [
    "# Load the pickled classifier here"
   ]
  },
  {
   "cell_type": "code",
   "execution_count": 1,
   "metadata": {
    "collapsed": true,
    "deletable": true,
    "editable": true
   },
   "outputs": [
    {
     "ename": "NameError",
     "evalue": "name 'joblib' is not defined",
     "output_type": "error",
     "traceback": [
      "\u001b[1;31m---------------------------------------------------------------------------\u001b[0m",
      "\u001b[1;31mNameError\u001b[0m                                 Traceback (most recent call last)",
      "\u001b[1;32m<ipython-input-1-32cdf7cd8404>\u001b[0m in \u001b[0;36m<module>\u001b[1;34m()\u001b[0m\n\u001b[0;32m      1\u001b[0m \u001b[1;31m#Uncomment the text below to load the classifier\u001b[0m\u001b[1;33m\u001b[0m\u001b[1;33m\u001b[0m\u001b[0m\n\u001b[1;32m----> 2\u001b[1;33m \u001b[0mgs_lr_tfidf\u001b[0m \u001b[1;33m=\u001b[0m \u001b[0mjoblib\u001b[0m\u001b[1;33m.\u001b[0m\u001b[0mload\u001b[0m\u001b[1;33m(\u001b[0m\u001b[1;34m'gridcv_RF_subsample.pkl'\u001b[0m\u001b[1;33m)\u001b[0m\u001b[1;33m\u001b[0m\u001b[0m\n\u001b[0m",
      "\u001b[1;31mNameError\u001b[0m: name 'joblib' is not defined"
     ]
    }
   ],
   "source": [
    "#Uncomment the text below to load the classifier\n",
    "gs_lr_tfidf = joblib.load('gridcv_RF_subsample.pkl')"
   ]
  },
  {
   "cell_type": "code",
   "execution_count": 25,
   "metadata": {
    "collapsed": false,
    "deletable": true,
    "editable": true
   },
   "outputs": [
    {
     "name": "stdout",
     "output_type": "stream",
     "text": [
      "Best parameter set: {'clf__min_samples_leaf': 300, 'vect__tokenizer': <function tokenizer_porter at 0x10b81c8c8>, 'clf__n_estimators': 200, 'vect__use_idf': False, 'vect__ngram_range': (1, 2), 'clf__oob_score': False, 'vect__stop_words': None, 'vect__norm': None}\n",
      "CV Accuracy: 0.781\n",
      "Test Accuracy: 0.848\n",
      "Random Chance Accuracy in Test Set: 0.182\n"
     ]
    }
   ],
   "source": [
    "print('Best parameter set: %s' % gs_lr_tfidf.best_params_)\n",
    "print('CV Accuracy: %.3f' % gs_lr_tfidf.best_score_)\n",
    "\n",
    "clf = gs_lr_tfidf.best_estimator_\n",
    "print('Test Accuracy: %.3f' % clf.score(X_test, y_test))\n",
    "\n",
    "pct = float(sum(y_test))/len(y_test)\n",
    "print('Random Chance Accuracy in Test Set: %.3f' % pct)\n"
   ]
  },
  {
   "cell_type": "code",
   "execution_count": 29,
   "metadata": {
    "collapsed": false,
    "deletable": true,
    "editable": true
   },
   "outputs": [],
   "source": [
    "y_pred = clf.predict(X_test)"
   ]
  },
  {
   "cell_type": "code",
   "execution_count": 27,
   "metadata": {
    "collapsed": true,
    "deletable": true,
    "editable": true
   },
   "outputs": [],
   "source": [
    "def plot_confusion_matrix(cm, title='Confusion matrix', cmap=plt.cm.Blues):\n",
    "    plt.imshow(cm, interpolation='nearest', cmap=cmap)\n",
    "    # plt.title(title, fontsize = 18)\n",
    "    plt.colorbar()\n",
    "    tick_marks = [0,1] \n",
    "    plt.xticks(tick_marks, fontsize = 14) \n",
    "    plt.yticks(tick_marks, fontsize = 14) \n",
    "    plt.tight_layout()\n",
    "    plt.ylabel('True Labels', fontsize = 16)\n",
    "    plt.xlabel('Predicted Labels', fontsize= 16)"
   ]
  },
  {
   "cell_type": "code",
   "execution_count": 30,
   "metadata": {
    "collapsed": false,
    "deletable": true,
    "editable": true
   },
   "outputs": [],
   "source": [
    "labels = [0, 1]\n",
    "cm = confusion_matrix(y_test, y_pred, labels)"
   ]
  },
  {
   "cell_type": "code",
   "execution_count": 31,
   "metadata": {
    "collapsed": false,
    "deletable": true,
    "editable": true
   },
   "outputs": [
    {
     "name": "stdout",
     "output_type": "stream",
     "text": [
      "Normalized confusion matrix\n",
      "[[ 0.84  0.16]\n",
      " [ 0.09  0.91]]\n"
     ]
    },
    {
     "data": {
      "image/png": "[encoded data removed]",
      "text/plain": [
       "<matplotlib.figure.Figure at 0x11d6ceb70>"
      ]
     },
     "metadata": {},
     "output_type": "display_data"
    }
   ],
   "source": [
    "# Normalize the confusion matrix by row (i.e by the number of samples in each class)\n",
    "cm_normalized = cm.astype('float') / cm.sum(axis=1)[:, np.newaxis]\n",
    "np.set_printoptions(precision=2)\n",
    "print('Normalized confusion matrix')\n",
    "print(cm_normalized)\n",
    "plt.figure()\n",
    "plot_confusion_matrix(cm_normalized, title='Normalized confusion matrix')\n",
    "img = 'normCM.png'\n",
    "plt.tight_layout()"
   ]
  },
  {
   "cell_type": "code",
   "execution_count": 32,
   "metadata": {
    "collapsed": false,
    "deletable": true,
    "editable": true
   },
   "outputs": [
    {
     "name": "stdout",
     "output_type": "stream",
     "text": [
      "             precision    recall  f1-score   support\n",
      "\n",
      "          0       0.98      0.84      0.90       619\n",
      "          1       0.55      0.91      0.68       138\n",
      "\n",
      "avg / total       0.90      0.85      0.86       757\n",
      "\n"
     ]
    }
   ],
   "source": [
    "cls_report = classification_report(y_test, y_pred, labels)\n",
    "print(cls_report)"
   ]
  },
  {
   "cell_type": "code",
   "execution_count": 70,
   "metadata": {
    "collapsed": false,
    "deletable": true,
    "editable": true
   },
   "outputs": [],
   "source": [
    "test_all_X = np.append(X_test,neg.tweet.values)"
   ]
  },
  {
   "cell_type": "code",
   "execution_count": 72,
   "metadata": {
    "collapsed": false,
    "deletable": true,
    "editable": true
   },
   "outputs": [
    {
     "name": "stdout",
     "output_type": "stream",
     "text": [
      "287891 287891\n"
     ]
    }
   ],
   "source": [
    "test_all_y = np.append(y_test,neg.RTbinary.values)\n",
    "print (len(test_all_y),len(test_all_X))"
   ]
  },
  {
   "cell_type": "code",
   "execution_count": 73,
   "metadata": {
    "collapsed": false,
    "deletable": true,
    "editable": true
   },
   "outputs": [
    {
     "name": "stdout",
     "output_type": "stream",
     "text": [
      "5824\n"
     ]
    }
   ],
   "source": [
    "print (sum(test_all_y))"
   ]
  },
  {
   "cell_type": "code",
   "execution_count": 75,
   "metadata": {
    "collapsed": false,
    "deletable": true,
    "editable": true
   },
   "outputs": [],
   "source": [
    "y_pred_all = clf.predict(test_all_X)"
   ]
  },
  {
   "cell_type": "code",
   "execution_count": 76,
   "metadata": {
    "collapsed": true,
    "deletable": true,
    "editable": true
   },
   "outputs": [],
   "source": [
    "cm_all = confusion_matrix(test_all_y,y_pred_all,labels)\n",
    "cls_report_all = classification_report(test_all_y,y_pred_all,labels)"
   ]
  },
  {
   "cell_type": "code",
   "execution_count": 77,
   "metadata": {
    "collapsed": false,
    "deletable": true,
    "editable": true
   },
   "outputs": [
    {
     "name": "stdout",
     "output_type": "stream",
     "text": [
      "Normalized confusion matrix\n",
      "[[ 0.83  0.17]\n",
      " [ 0.27  0.73]]\n"
     ]
    },
    {
     "data": {
      "image/png": "[encoded data removed]",
      "text/plain": [
       "<matplotlib.figure.Figure at 0x13110ab70>"
      ]
     },
     "metadata": {},
     "output_type": "display_data"
    }
   ],
   "source": [
    "cm_normalized_all = cm_all.astype('float') / cm_all.sum(axis=1)[:, np.newaxis]\n",
    "np.set_printoptions(precision=2)\n",
    "print('Normalized confusion matrix')\n",
    "print(cm_normalized_all)\n",
    "plt.figure()\n",
    "plot_confusion_matrix(cm_normalized_all, title='Normalized confusion matrix')\n",
    "img = 'normCM.png'"
   ]
  },
  {
   "cell_type": "code",
   "execution_count": 78,
   "metadata": {
    "collapsed": false,
    "deletable": true,
    "editable": true
   },
   "outputs": [
    {
     "name": "stdout",
     "output_type": "stream",
     "text": [
      "             precision    recall  f1-score   support\n",
      "\n",
      "          0       0.99      0.83      0.91    282067\n",
      "          1       0.08      0.73      0.15      5824\n",
      "\n",
      "avg / total       0.97      0.83      0.89    287891\n",
      "\n"
     ]
    }
   ],
   "source": [
    "print (cls_report_all)"
   ]
  },
  {
   "cell_type": "code",
   "execution_count": 62,
   "metadata": {
    "collapsed": false,
    "deletable": true,
    "editable": true
   },
   "outputs": [
    {
     "data": {
      "text/plain": [
       "['classifier_RF_subsample.pkl']"
      ]
     },
     "execution_count": 62,
     "metadata": {},
     "output_type": "execute_result"
    }
   ],
   "source": [
    "joblib.dump(clf,'classifier_RF_subsample.pkl',compress = 1)"
   ]
  },
  {
   "cell_type": "code",
   "execution_count": 65,
   "metadata": {
    "collapsed": false,
    "deletable": true,
    "editable": true
   },
   "outputs": [
    {
     "data": {
      "text/plain": [
       "['gridcv_RF_subsample.pkl']"
      ]
     },
     "execution_count": 65,
     "metadata": {},
     "output_type": "execute_result"
    }
   ],
   "source": [
    "joblib.dump(gs_lr_tfidf,'gridcv_RF_subsample.pkl',compress = 1)"
   ]
  }
 ],
 "metadata": {
  "kernelspec": {
   "display_name": "Python [insight_env]",
   "language": "python",
   "name": "Python [insight_env]"
  },
  "language_info": {
   "codemirror_mode": {
    "name": "ipython",
    "version": 2
   },
   "file_extension": ".py",
   "mimetype": "text/x-python",
   "name": "python",
   "nbconvert_exporter": "python",
   "pygments_lexer": "ipython2",
   "version": "2.7.12"
  }
 },
 "nbformat": 4,
 "nbformat_minor": 2
}
